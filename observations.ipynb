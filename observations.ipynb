{
 "cells": [
  {
   "cell_type": "code",
   "execution_count": 1,
   "metadata": {},
   "outputs": [
    {
     "name": "stderr",
     "output_type": "stream",
     "text": [
      "c:\\Users\\nikhi\\Documents\\Projects\\LoRA-Ensembling\\.venv\\Lib\\site-packages\\tqdm\\auto.py:21: TqdmWarning: IProgress not found. Please update jupyter and ipywidgets. See https://ipywidgets.readthedocs.io/en/stable/user_install.html\n",
      "  from .autonotebook import tqdm as notebook_tqdm\n",
      "Seed set to 42\n"
     ]
    },
    {
     "data": {
      "text/plain": [
       "42"
      ]
     },
     "execution_count": 1,
     "metadata": {},
     "output_type": "execute_result"
    }
   ],
   "source": [
    "import os\n",
    "import torch\n",
    "from copy import deepcopy\n",
    "from pytorch_lightning import Trainer, seed_everything\n",
    "\n",
    "from src.models import PeftModelForSequenceClassification\n",
    "from src.data import get_datamodule\n",
    "from src.config import get_config\n",
    "\n",
    "torch.set_float32_matmul_precision('high')\n",
    "seed_everything(42)"
   ]
  },
  {
   "cell_type": "markdown",
   "metadata": {},
   "source": [
    "## Performance Baselines"
   ]
  },
  {
   "cell_type": "markdown",
   "metadata": {},
   "source": [
    "### SST2, No Constraint"
   ]
  },
  {
   "cell_type": "code",
   "execution_count": 2,
   "metadata": {},
   "outputs": [
    {
     "name": "stderr",
     "output_type": "stream",
     "text": [
      "\u001b[32m2024-06-23 12:37:03.515\u001b[0m | \u001b[34m\u001b[1mDEBUG   \u001b[0m | \u001b[36msrc.models\u001b[0m:\u001b[36m__init__\u001b[0m:\u001b[36m24\u001b[0m - \u001b[34m\u001b[1mLoading model bert-base-uncased...\u001b[0m\n",
      "Some weights of BertForSequenceClassification were not initialized from the model checkpoint at bert-base-uncased and are newly initialized: ['classifier.bias', 'classifier.weight']\n",
      "You should probably TRAIN this model on a down-stream task to be able to use it for predictions and inference.\n",
      "\u001b[32m2024-06-23 12:37:04.760\u001b[0m | \u001b[34m\u001b[1mDEBUG   \u001b[0m | \u001b[36msrc.models\u001b[0m:\u001b[36m__init__\u001b[0m:\u001b[36m36\u001b[0m - \u001b[34m\u001b[1mCreating LoRA model...\u001b[0m\n",
      "\u001b[32m2024-06-23 12:37:04.784\u001b[0m | \u001b[34m\u001b[1mDEBUG   \u001b[0m | \u001b[36msrc.models\u001b[0m:\u001b[36m__init__\u001b[0m:\u001b[36m39\u001b[0m - \u001b[34m\u001b[1mSeeding model parameters...\u001b[0m\n",
      "\u001b[32m2024-06-23 12:37:04.785\u001b[0m | \u001b[34m\u001b[1mDEBUG   \u001b[0m | \u001b[36msrc.models\u001b[0m:\u001b[36mseed_model_params\u001b[0m:\u001b[36m47\u001b[0m - \u001b[34m\u001b[1mInitial weights already exist at `state_dicts/lora-bert-sst2_kqv_ALL.pt`. Loading...\u001b[0m\n",
      "GPU available: True (cuda), used: True\n",
      "TPU available: False, using: 0 TPU cores\n",
      "IPU available: False, using: 0 IPUs\n",
      "HPU available: False, using: 0 HPUs\n",
      "c:\\Users\\nikhi\\Documents\\Projects\\LoRA-Ensembling\\.venv\\Lib\\site-packages\\pytorch_lightning\\trainer\\connectors\\logger_connector\\logger_connector.py:75: Starting from v1.9.0, `tensorboardX` has been removed as a dependency of the `pytorch_lightning` package, due to potential conflicts with other packages in the ML ecosystem. For this reason, `logger=True` will use `CSVLogger` as the default logger, unless the `tensorboard` or `tensorboardX` packages are found. Please `pip install lightning[extra]` or one of them to enable TensorBoard support by default\n"
     ]
    }
   ],
   "source": [
    "config = get_config(\"performance_baseline\", \"sst2\")\n",
    "config.model.init_lora_weights = \"state_dicts/lora-bert-sst2_kqv_ALL.pt\"\n",
    "\n",
    "sst2_model = PeftModelForSequenceClassification(config)\n",
    "sst2_cls = get_datamodule(\"sst2\")\n",
    "sst2_data = sst2_cls(\n",
    "    model_name=config.model.model_name,\n",
    "    batch_size=config.training.batch_size,\n",
    "    num_workers=config.data.num_workers,\n",
    ")\n",
    "sst2_data.prepare_data()\n",
    "sst2_data.setup()\n",
    "\n",
    "trainer = Trainer(\n",
    "        max_epochs=config.training.max_epochs,\n",
    "        accelerator=config.training.accelerator,\n",
    "        precision=config.training.precision,\n",
    "        deterministic=True,\n",
    "        val_check_interval=config.training.val_check_interval,\n",
    "    )"
   ]
  },
  {
   "cell_type": "code",
   "execution_count": 6,
   "metadata": {},
   "outputs": [
    {
     "name": "stderr",
     "output_type": "stream",
     "text": [
      "LOCAL_RANK: 0 - CUDA_VISIBLE_DEVICES: [0]\n",
      "c:\\Users\\nikhi\\Documents\\Projects\\LoRA-Ensembling\\.venv\\Lib\\site-packages\\pytorch_lightning\\trainer\\connectors\\data_connector.py:492: Your `val_dataloader`'s sampler has shuffling enabled, it is strongly recommended that you turn shuffling off for val/test dataloaders.\n"
     ]
    },
    {
     "name": "stdout",
     "output_type": "stream",
     "text": [
      "Validation DataLoader 0: 100%|██████████| 8418/8418 [02:58<00:00, 47.24it/s]\n",
      "────────────────────────────────────────────────────────────────────────────────────────────────────────────────────────\n",
      "     Validate metric           DataLoader 0\n",
      "────────────────────────────────────────────────────────────────────────────────────────────────────────────────────────\n",
      "         val/acc            0.8725202083587646\n",
      "        val/loss            0.3071436285972595\n",
      "────────────────────────────────────────────────────────────────────────────────────────────────────────────────────────\n"
     ]
    },
    {
     "data": {
      "text/plain": [
       "[{'val/loss': 0.3071436285972595, 'val/acc': 0.8725202083587646}]"
      ]
     },
     "execution_count": 6,
     "metadata": {},
     "output_type": "execute_result"
    }
   ],
   "source": [
    "# Model performance on training data\n",
    "trainer.validate(sst2_model, dataloaders=sst2_data.train_dataloader())"
   ]
  },
  {
   "cell_type": "code",
   "execution_count": 3,
   "metadata": {},
   "outputs": [
    {
     "name": "stderr",
     "output_type": "stream",
     "text": [
      "LOCAL_RANK: 0 - CUDA_VISIBLE_DEVICES: [0]\n"
     ]
    },
    {
     "name": "stdout",
     "output_type": "stream",
     "text": [
      "Validation DataLoader 0: 100%|██████████| 109/109 [00:03<00:00, 33.75it/s]\n",
      "────────────────────────────────────────────────────────────────────────────────────────────────────────────────────────\n",
      "     Validate metric           DataLoader 0\n",
      "────────────────────────────────────────────────────────────────────────────────────────────────────────────────────────\n",
      "         val/acc            0.8463302850723267\n",
      "        val/loss            0.3317883610725403\n",
      "────────────────────────────────────────────────────────────────────────────────────────────────────────────────────────\n"
     ]
    },
    {
     "data": {
      "text/plain": [
       "[{'val/loss': 0.3317883610725403, 'val/acc': 0.8463302850723267}]"
      ]
     },
     "execution_count": 3,
     "metadata": {},
     "output_type": "execute_result"
    }
   ],
   "source": [
    "# Model performance on validation data\n",
    "trainer.validate(sst2_model, dataloaders=sst2_data.val_dataloader())"
   ]
  },
  {
   "cell_type": "markdown",
   "metadata": {},
   "source": [
    "### CoLA, No Constraint"
   ]
  },
  {
   "cell_type": "code",
   "execution_count": 7,
   "metadata": {},
   "outputs": [
    {
     "name": "stderr",
     "output_type": "stream",
     "text": [
      "\u001b[32m2024-06-23 12:52:23.478\u001b[0m | \u001b[34m\u001b[1mDEBUG   \u001b[0m | \u001b[36msrc.models\u001b[0m:\u001b[36m__init__\u001b[0m:\u001b[36m24\u001b[0m - \u001b[34m\u001b[1mLoading model bert-base-uncased...\u001b[0m\n",
      "Some weights of BertForSequenceClassification were not initialized from the model checkpoint at bert-base-uncased and are newly initialized: ['classifier.bias', 'classifier.weight']\n",
      "You should probably TRAIN this model on a down-stream task to be able to use it for predictions and inference.\n",
      "\u001b[32m2024-06-23 12:52:24.885\u001b[0m | \u001b[34m\u001b[1mDEBUG   \u001b[0m | \u001b[36msrc.models\u001b[0m:\u001b[36m__init__\u001b[0m:\u001b[36m36\u001b[0m - \u001b[34m\u001b[1mCreating LoRA model...\u001b[0m\n",
      "\u001b[32m2024-06-23 12:52:24.907\u001b[0m | \u001b[34m\u001b[1mDEBUG   \u001b[0m | \u001b[36msrc.models\u001b[0m:\u001b[36m__init__\u001b[0m:\u001b[36m39\u001b[0m - \u001b[34m\u001b[1mSeeding model parameters...\u001b[0m\n",
      "\u001b[32m2024-06-23 12:52:24.908\u001b[0m | \u001b[34m\u001b[1mDEBUG   \u001b[0m | \u001b[36msrc.models\u001b[0m:\u001b[36mseed_model_params\u001b[0m:\u001b[36m47\u001b[0m - \u001b[34m\u001b[1mInitial weights already exist at `state_dicts/lora-bert-cola_kqv_ALL.pt`. Loading...\u001b[0m\n",
      "Map: 100%|██████████| 1043/1043 [00:00<00:00, 26259.09 examples/s]\n",
      "GPU available: True (cuda), used: True\n",
      "TPU available: False, using: 0 TPU cores\n",
      "IPU available: False, using: 0 IPUs\n",
      "HPU available: False, using: 0 HPUs\n"
     ]
    }
   ],
   "source": [
    "config = get_config(\"performance_baseline\", \"cola\")\n",
    "config.model.init_lora_weights = \"state_dicts/lora-bert-cola_kqv_ALL.pt\"\n",
    "\n",
    "cola_model = PeftModelForSequenceClassification(config)\n",
    "cola_cls = get_datamodule(\"cola\")\n",
    "cola_data = cola_cls(\n",
    "    model_name=config.model.model_name,\n",
    "    batch_size=config.training.batch_size,\n",
    "    num_workers=config.data.num_workers,\n",
    ")\n",
    "cola_data.prepare_data()\n",
    "cola_data.setup()\n",
    "\n",
    "trainer = Trainer(\n",
    "        max_epochs=config.training.max_epochs,\n",
    "        accelerator=config.training.accelerator,\n",
    "        precision=config.training.precision,\n",
    "        deterministic=True,\n",
    "    )"
   ]
  },
  {
   "cell_type": "code",
   "execution_count": 9,
   "metadata": {},
   "outputs": [
    {
     "name": "stderr",
     "output_type": "stream",
     "text": [
      "LOCAL_RANK: 0 - CUDA_VISIBLE_DEVICES: [0]\n"
     ]
    },
    {
     "name": "stdout",
     "output_type": "stream",
     "text": [
      "Validation DataLoader 0: 100%|██████████| 1068/1068 [00:18<00:00, 56.30it/s]\n",
      "────────────────────────────────────────────────────────────────────────────────────────────────────────────────────────\n",
      "     Validate metric           DataLoader 0\n",
      "────────────────────────────────────────────────────────────────────────────────────────────────────────────────────────\n",
      "         val/acc            0.9183052778244019\n",
      "        val/loss            0.23546119034290314\n",
      "────────────────────────────────────────────────────────────────────────────────────────────────────────────────────────\n"
     ]
    },
    {
     "data": {
      "text/plain": [
       "[{'val/loss': 0.23546119034290314, 'val/acc': 0.9183052778244019}]"
      ]
     },
     "execution_count": 9,
     "metadata": {},
     "output_type": "execute_result"
    }
   ],
   "source": [
    "# Model performance on training data\n",
    "trainer.validate(cola_model, dataloaders=cola_data.train_dataloader())"
   ]
  },
  {
   "cell_type": "code",
   "execution_count": 8,
   "metadata": {},
   "outputs": [
    {
     "name": "stderr",
     "output_type": "stream",
     "text": [
      "LOCAL_RANK: 0 - CUDA_VISIBLE_DEVICES: [0]\n"
     ]
    },
    {
     "name": "stdout",
     "output_type": "stream",
     "text": [
      "Validation DataLoader 0: 100%|██████████| 130/130 [00:02<00:00, 47.29it/s]\n",
      "────────────────────────────────────────────────────────────────────────────────────────────────────────────────────────\n",
      "     Validate metric           DataLoader 0\n",
      "────────────────────────────────────────────────────────────────────────────────────────────────────────────────────────\n",
      "         val/acc            0.8144230842590332\n",
      "        val/loss            0.41714978218078613\n",
      "────────────────────────────────────────────────────────────────────────────────────────────────────────────────────────\n"
     ]
    },
    {
     "data": {
      "text/plain": [
       "[{'val/loss': 0.41714978218078613, 'val/acc': 0.8144230842590332}]"
      ]
     },
     "execution_count": 8,
     "metadata": {},
     "output_type": "execute_result"
    }
   ],
   "source": [
    "# Model performance on validation data\n",
    "trainer.validate(cola_model, dataloaders=cola_data.val_dataloader())"
   ]
  },
  {
   "cell_type": "markdown",
   "metadata": {},
   "source": [
    "### MNLI, No Constraint"
   ]
  },
  {
   "cell_type": "code",
   "execution_count": 10,
   "metadata": {},
   "outputs": [
    {
     "name": "stderr",
     "output_type": "stream",
     "text": [
      "\u001b[32m2024-06-23 12:53:49.584\u001b[0m | \u001b[34m\u001b[1mDEBUG   \u001b[0m | \u001b[36msrc.models\u001b[0m:\u001b[36m__init__\u001b[0m:\u001b[36m24\u001b[0m - \u001b[34m\u001b[1mLoading model bert-base-uncased...\u001b[0m\n",
      "Some weights of BertForSequenceClassification were not initialized from the model checkpoint at bert-base-uncased and are newly initialized: ['classifier.bias', 'classifier.weight']\n",
      "You should probably TRAIN this model on a down-stream task to be able to use it for predictions and inference.\n",
      "\u001b[32m2024-06-23 12:53:50.229\u001b[0m | \u001b[34m\u001b[1mDEBUG   \u001b[0m | \u001b[36msrc.models\u001b[0m:\u001b[36m__init__\u001b[0m:\u001b[36m36\u001b[0m - \u001b[34m\u001b[1mCreating LoRA model...\u001b[0m\n",
      "\u001b[32m2024-06-23 12:53:50.252\u001b[0m | \u001b[34m\u001b[1mDEBUG   \u001b[0m | \u001b[36msrc.models\u001b[0m:\u001b[36m__init__\u001b[0m:\u001b[36m39\u001b[0m - \u001b[34m\u001b[1mSeeding model parameters...\u001b[0m\n",
      "\u001b[32m2024-06-23 12:53:50.253\u001b[0m | \u001b[34m\u001b[1mDEBUG   \u001b[0m | \u001b[36msrc.models\u001b[0m:\u001b[36mseed_model_params\u001b[0m:\u001b[36m47\u001b[0m - \u001b[34m\u001b[1mInitial weights already exist at `state_dicts/lora-bert-mnli_kqv_ALL.pt`. Loading...\u001b[0m\n",
      "Map: 100%|██████████| 9832/9832 [00:00<00:00, 12370.20 examples/s]\n",
      "GPU available: True (cuda), used: True\n",
      "TPU available: False, using: 0 TPU cores\n",
      "IPU available: False, using: 0 IPUs\n",
      "HPU available: False, using: 0 HPUs\n"
     ]
    }
   ],
   "source": [
    "config = get_config(\"performance_baseline\", \"mnli\")\n",
    "config.model.init_lora_weights = \"state_dicts/lora-bert-mnli_kqv_ALL.pt\"\n",
    "\n",
    "mnli_model = PeftModelForSequenceClassification(config)\n",
    "mnli_cls = get_datamodule(\"mnli\")\n",
    "mnli_data = mnli_cls(\n",
    "    model_name=config.model.model_name,\n",
    "    batch_size=config.training.batch_size,\n",
    "    num_workers=config.data.num_workers,\n",
    ")\n",
    "mnli_data.prepare_data()\n",
    "mnli_data.setup()\n",
    "\n",
    "trainer = Trainer(\n",
    "        max_epochs=config.training.max_epochs,\n",
    "        accelerator=config.training.accelerator,\n",
    "        precision=config.training.precision,\n",
    "        deterministic=True,\n",
    "    )"
   ]
  },
  {
   "cell_type": "code",
   "execution_count": 11,
   "metadata": {},
   "outputs": [
    {
     "name": "stderr",
     "output_type": "stream",
     "text": [
      "LOCAL_RANK: 0 - CUDA_VISIBLE_DEVICES: [0]\n"
     ]
    },
    {
     "name": "stdout",
     "output_type": "stream",
     "text": [
      "Validation DataLoader 0:   1%|          | 416/49088 [00:30<59:40, 13.59it/s]  "
     ]
    },
    {
     "name": "stderr",
     "output_type": "stream",
     "text": [
      "c:\\Users\\nikhi\\Documents\\Projects\\LoRA-Ensembling\\.venv\\Lib\\site-packages\\pytorch_lightning\\trainer\\call.py:54: Detected KeyboardInterrupt, attempting graceful shutdown...\n"
     ]
    }
   ],
   "source": [
    "# Model performance on training data\n",
    "trainer.validate(mnli_model, dataloaders=mnli_data.train_dataloader())"
   ]
  },
  {
   "cell_type": "code",
   "execution_count": 12,
   "metadata": {},
   "outputs": [
    {
     "name": "stderr",
     "output_type": "stream",
     "text": [
      "LOCAL_RANK: 0 - CUDA_VISIBLE_DEVICES: [0]\n"
     ]
    },
    {
     "name": "stdout",
     "output_type": "stream",
     "text": [
      "Validation DataLoader 0:   1%|          | 416/49088 [00:48<1:33:41,  8.66it/s]\n",
      "Validation DataLoader 1: 100%|██████████| 1229/1229 [00:51<00:00, 24.02it/s]\n",
      "────────────────────────────────────────────────────────────────────────────────────────────────────────────────────────\n",
      "     Validate metric           DataLoader 0             DataLoader 1\n",
      "────────────────────────────────────────────────────────────────────────────────────────────────────────────────────────\n",
      "     val_matched/acc        0.7426388263702393\n",
      "    val_matched/loss        0.6197290420532227\n",
      "   val_mismatched/acc                                0.7571195960044861\n",
      "   val_mismatched/loss                               0.5963663458824158\n",
      "────────────────────────────────────────────────────────────────────────────────────────────────────────────────────────\n"
     ]
    },
    {
     "data": {
      "text/plain": [
       "[{'val_matched/loss/dataloader_idx_0': 0.6197290420532227,\n",
       "  'val_matched/acc/dataloader_idx_0': 0.7426388263702393},\n",
       " {'val_mismatched/loss/dataloader_idx_1': 0.5963663458824158,\n",
       "  'val_mismatched/acc/dataloader_idx_1': 0.7571195960044861}]"
      ]
     },
     "execution_count": 12,
     "metadata": {},
     "output_type": "execute_result"
    }
   ],
   "source": [
    "# Model performance on validation data\n",
    "trainer.validate(mnli_model, dataloaders=mnli_data.val_dataloader())"
   ]
  },
  {
   "cell_type": "markdown",
   "metadata": {},
   "source": [
    "## Visualizing LoRAs"
   ]
  },
  {
   "cell_type": "markdown",
   "metadata": {},
   "source": [
    "### Init weights"
   ]
  },
  {
   "cell_type": "code",
   "execution_count": 14,
   "metadata": {},
   "outputs": [],
   "source": [
    "import matplotlib.pyplot as plt\n",
    "\n",
    "def plot_histograms(lora_A, lora_B):\n",
    "    num_layers = len(lora_A)\n",
    "    fig, axes = plt.subplots(num_layers, 2, figsize=(8, 3 * num_layers))\n",
    "    \n",
    "    for i in range(num_layers):\n",
    "        # Plot histogram for lora_A\n",
    "        axes[i, 0].hist(lora_A[i].flatten(), bins=50, alpha=0.7, color='blue')\n",
    "        axes[i, 0].set_title(f'Layer {i} - LoRA A')\n",
    "        \n",
    "        # Plot histogram for lora_B\n",
    "        axes[i, 1].hist(lora_B[i].flatten(), bins=50, alpha=0.7, color='green')\n",
    "        axes[i, 1].set_title(f'Layer {i} - LoRA B')\n",
    "    \n",
    "    plt.tight_layout()\n",
    "    plt.show()\n",
    "    \n",
    "\n",
    "def plot_heatmaps(lora_A, lora_B):\n",
    "    num_layers = len(lora_A)\n",
    "    fig, axes = plt.subplots(num_layers, 1, figsize=(8, 3 * num_layers))\n",
    "    \n",
    "    for i in range(num_layers):\n",
    "        # Plot heatmap for lora_A\n",
    "        im1 = axes[i].imshow(lora_B[i]@lora_A[i], cmap='hot', interpolation='nearest')\n",
    "        axes[i].set_title(f'Layer {i} - LoRA_B x LoRA_A')\n",
    "        fig.colorbar(im1, ax=axes[i])\n",
    "            \n",
    "    plt.tight_layout()\n",
    "    plt.show()"
   ]
  },
  {
   "cell_type": "code",
   "execution_count": 19,
   "metadata": {},
   "outputs": [],
   "source": [
    "def plot_histograms_comparison(lora_A_task1, lora_B_task1, lora_A_task2, lora_B_task2):\n",
    "    num_layers = len(lora_A_task1)\n",
    "    fig, axes = plt.subplots(num_layers, 4, figsize=(24, 4 * num_layers))\n",
    "    \n",
    "    for i in range(num_layers):\n",
    "        # Plot histogram for lora_A_task1\n",
    "        axes[i, 0].hist(lora_A_task1[i].flatten(), bins=50, alpha=0.7, color='blue')\n",
    "        axes[i, 0].set_title(f'Task 1 - Layer {i} - LoRA A')\n",
    "        \n",
    "        # Plot histogram for lora_B_task1\n",
    "        axes[i, 1].hist(lora_B_task1[i].flatten(), bins=50, alpha=0.7, color='green')\n",
    "        axes[i, 1].set_title(f'Task 1 - Layer {i} - LoRA B')\n",
    "        \n",
    "        # Plot histogram for lora_A_task2\n",
    "        axes[i, 2].hist(lora_A_task2[i].flatten(), bins=50, alpha=0.7, color='red')\n",
    "        axes[i, 2].set_title(f'Task 2 - Layer {i} - LoRA A')\n",
    "        \n",
    "        # Plot histogram for lora_B_task2\n",
    "        axes[i, 3].hist(lora_B_task2[i].flatten(), bins=50, alpha=0.7, color='purple')\n",
    "        axes[i, 3].set_title(f'Task 2 - Layer {i} - LoRA B')\n",
    "    \n",
    "    plt.tight_layout()\n",
    "    plt.show()\n"
   ]
  },
  {
   "cell_type": "code",
   "execution_count": 1,
   "metadata": {},
   "outputs": [
    {
     "name": "stderr",
     "output_type": "stream",
     "text": [
      "c:\\Users\\nikhi\\Documents\\Projects\\LoRA-Ensembling\\.venv\\Lib\\site-packages\\tqdm\\auto.py:21: TqdmWarning: IProgress not found. Please update jupyter and ipywidgets. See https://ipywidgets.readthedocs.io/en/stable/user_install.html\n",
      "  from .autonotebook import tqdm as notebook_tqdm\n"
     ]
    }
   ],
   "source": [
    "from src.utils import get_lora_matrices, get_cosine_similarities, get_euclidian_distances\n",
    "\n",
    "init_sdict = get_lora_matrices(\"state_dicts/lora-bert_kqv_INIT.pt\")\n",
    "sst2_sdict = get_lora_matrices(\"state_dicts/lora-bert-sst2_kqv_ALL.pt\")\n",
    "cola_sdict = get_lora_matrices(\"state_dicts/lora-bert-cola_kqv_ALL.pt\")"
   ]
  },
  {
   "cell_type": "code",
   "execution_count": 2,
   "metadata": {},
   "outputs": [
    {
     "name": "stdout",
     "output_type": "stream",
     "text": [
      "Cosine similarity between INIT and SST2: {'key.lora_A': tensor([0.9446, 0.9054, 0.9280, 0.9411, 0.9550, 0.9477, 0.9061, 0.9037, 0.8777,\n",
      "        0.9274, 0.7042, 0.9096]), 'key.lora_B': tensor([0., 0., 0., 0., 0., 0., 0., 0., 0., 0., 0., 0.]), 'value.lora_A': tensor([0.8754, 0.7746, 0.7411, 0.8434, 0.9368, 0.8624, 0.7792, 0.9339, 0.8173,\n",
      "        0.8957, 0.8545, 0.9081]), 'value.lora_B': tensor([0., 0., 0., 0., 0., 0., 0., 0., 0., 0., 0., 0.]), 'query.lora_A': tensor([0.9395, 0.9399, 0.9106, 0.9434, 0.9369, 0.9400, 0.8915, 0.8721, 0.9227,\n",
      "        0.8670, 0.8538, 0.8343]), 'query.lora_B': tensor([0., 0., 0., 0., 0., 0., 0., 0., 0., 0., 0., 0.])}\n",
      "Cosine similarity between INIT and CoLA: {'key.lora_A': tensor([0.5139, 0.3950, 0.3471, 0.5004, 0.5430, 0.5787, 0.5415, 0.3988, 0.5231,\n",
      "        0.5397, 0.6220, 0.3858]), 'key.lora_B': tensor([0., 0., 0., 0., 0., 0., 0., 0., 0., 0., 0., 0.]), 'value.lora_A': tensor([0.6142, 0.6552, 0.5565, 0.5770, 0.5876, 0.6432, 0.6808, 0.6778, 0.5834,\n",
      "        0.6935, 0.7392, 0.7448]), 'value.lora_B': tensor([0., 0., 0., 0., 0., 0., 0., 0., 0., 0., 0., 0.]), 'query.lora_A': tensor([0.3730, 0.4753, 0.3777, 0.4040, 0.5669, 0.5765, 0.6162, 0.4162, 0.4543,\n",
      "        0.5796, 0.6155, 0.4666]), 'query.lora_B': tensor([0., 0., 0., 0., 0., 0., 0., 0., 0., 0., 0., 0.])}\n"
     ]
    }
   ],
   "source": [
    "print(f\"Cosine similarity between INIT and SST2: {get_cosine_similarities(init_sdict, sst2_sdict)}\")\n",
    "print(f\"Cosine similarity between INIT and CoLA: {get_cosine_similarities(init_sdict, cola_sdict)}\")"
   ]
  },
  {
   "cell_type": "code",
   "execution_count": 3,
   "metadata": {},
   "outputs": [
    {
     "name": "stdout",
     "output_type": "stream",
     "text": [
      "Euclidian distance between INIT and SST2: {'key.lora_A': tensor(1.2668), 'key.lora_B': tensor(0.2928), 'value.lora_A': tensor(1.0846), 'value.lora_B': tensor(0.6614), 'query.lora_A': tensor(1.2771), 'query.lora_B': tensor(0.3316)}\n",
      "Euclidian distance between INIT and CoLA: {'key.lora_A': tensor(2.4015), 'key.lora_B': tensor(2.1734), 'value.lora_A': tensor(2.0095), 'value.lora_B': tensor(1.7993), 'query.lora_A': tensor(2.3159), 'query.lora_B': tensor(2.1190)}\n"
     ]
    }
   ],
   "source": [
    "print(f\"Euclidian distance between INIT and SST2: {get_euclidian_distances(init_sdict, sst2_sdict)}\")\n",
    "print(f\"Euclidian distance between INIT and CoLA: {get_euclidian_distances(init_sdict, cola_sdict)}\")"
   ]
  },
  {
   "cell_type": "markdown",
   "metadata": {},
   "source": [
    "## Stacking SST2 & CoLA LoRAs"
   ]
  },
  {
   "cell_type": "code",
   "execution_count": 59,
   "metadata": {},
   "outputs": [],
   "source": [
    "sst2_dict = torch.load(\"state_dicts/lora-bert-sst2_kqv_ALL.pt\")\n",
    "cola_dict = torch.load(\"state_dicts/lora-bert-cola_kqv_ALL.pt\")\n",
    "\n",
    "sst2_cola_lora_dict = deepcopy(sst2_dict)\n",
    "cola_sst2_lora_dict = deepcopy(cola_dict)\n",
    "\n",
    "keys = list(sst2_dict.keys())\n",
    "\n",
    "# Concatenate LoRA matrices for SST2 and CoLA\n",
    "for key in keys:\n",
    "    if \"lora_A\" in key:\n",
    "        sst2_cola_lora_dict[key] = torch.cat([sst2_dict[key].cpu(), cola_dict[key].cpu()], dim=0)\n",
    "        cola_sst2_lora_dict[key] = torch.cat([cola_dict[key].cpu(), sst2_dict[key].cpu()], dim=0)\n",
    "    elif \"lora_B\" in key:\n",
    "        sst2_cola_lora_dict[key] = torch.cat([sst2_dict[key].cpu(), cola_dict[key].cpu()], dim=1)\n",
    "        cola_sst2_lora_dict[key] = torch.cat([cola_dict[key].cpu(), sst2_dict[key].cpu()], dim=1)\n",
    "    else:\n",
    "        sst2_cola_lora_dict.pop(key)\n",
    "        cola_sst2_lora_dict.pop(key)\n",
    "\n",
    "\n",
    "# Separate the classifier heads for SST2 and CoLA\n",
    "sst2_cls_dict = deepcopy(sst2_dict)\n",
    "cola_cls_dict = deepcopy(cola_dict)\n",
    "\n",
    "for key in keys:\n",
    "    if \"classifier\" not in key:\n",
    "        sst2_cls_dict.pop(key)\n",
    "        cola_cls_dict.pop(key)\n"
   ]
  },
  {
   "cell_type": "code",
   "execution_count": 60,
   "metadata": {},
   "outputs": [],
   "source": [
    "torch.save(sst2_cola_lora_dict, \"state_dicts/lora-bert-sst2_cola_kqv_LORA.pt\")\n",
    "torch.save(cola_sst2_lora_dict, \"state_dicts/lora-bert-cola_sst2_kqv_LORA.pt\")\n",
    "torch.save(sst2_cls_dict, \"state_dicts/lora-bert-sst2_cls.pt\")\n",
    "torch.save(cola_cls_dict, \"state_dicts/lora-bert-cola_cls.pt\")"
   ]
  },
  {
   "cell_type": "markdown",
   "metadata": {},
   "source": [
    "## Performance with stacked LoRAs [No further training]"
   ]
  },
  {
   "cell_type": "code",
   "execution_count": 68,
   "metadata": {},
   "outputs": [],
   "source": [
    "sst2_baseline = {'train/loss': 0.3071436285972595, 'train/acc': 0.8725202083587646,\n",
    "                 'val/loss': 0.3317883610725403, 'val/acc': 0.8463302850723267}\n",
    "\n",
    "cola_baseline = {'train/loss': 0.23546119034290314, 'train/acc': 0.9183052778244019,\n",
    "                 'val/loss': 0.41714978218078613, 'val/acc': 0.8144230842590332}"
   ]
  },
  {
   "cell_type": "code",
   "execution_count": 61,
   "metadata": {},
   "outputs": [],
   "source": [
    "config = get_config(\"performance_stacked_loras-no_training\", \"sst2\")\n",
    "\n",
    "sst2_cls = get_datamodule(\"sst2\")\n",
    "sst2_data = sst2_cls(\n",
    "    model_name=config.model.model_name,\n",
    "    batch_size=config.training.batch_size,\n",
    "    num_workers=config.data.num_workers,\n",
    ")\n",
    "sst2_data.prepare_data()\n",
    "sst2_data.setup()\n",
    "\n",
    "cola_cls = get_datamodule(\"cola\")\n",
    "cola_data = cola_cls(\n",
    "    model_name=config.model.model_name,\n",
    "    batch_size=config.training.batch_size,\n",
    "    num_workers=config.data.num_workers,\n",
    ")\n",
    "cola_data.prepare_data()\n",
    "cola_data.setup()"
   ]
  },
  {
   "cell_type": "markdown",
   "metadata": {},
   "source": [
    "### Exp 01: \n",
    "- No further training\n",
    "- Rank #1: Trained SST2 LoRA weights\n",
    "- Rank #2: Trained CoLA LoRA weights\n",
    "- Classifier head: Trained SST2's classifier head\n",
    "- Evaluated on: SST2 dataset"
   ]
  },
  {
   "cell_type": "code",
   "execution_count": 65,
   "metadata": {},
   "outputs": [
    {
     "name": "stderr",
     "output_type": "stream",
     "text": [
      "\u001b[32m2024-06-23 17:51:12.543\u001b[0m | \u001b[34m\u001b[1mDEBUG   \u001b[0m | \u001b[36msrc.models\u001b[0m:\u001b[36m__init__\u001b[0m:\u001b[36m24\u001b[0m - \u001b[34m\u001b[1mLoading model bert-base-uncased...\u001b[0m\n",
      "Some weights of BertForSequenceClassification were not initialized from the model checkpoint at bert-base-uncased and are newly initialized: ['classifier.bias', 'classifier.weight']\n",
      "You should probably TRAIN this model on a down-stream task to be able to use it for predictions and inference.\n",
      "\u001b[32m2024-06-23 17:51:13.067\u001b[0m | \u001b[34m\u001b[1mDEBUG   \u001b[0m | \u001b[36msrc.models\u001b[0m:\u001b[36m__init__\u001b[0m:\u001b[36m36\u001b[0m - \u001b[34m\u001b[1mCreating LoRA model...\u001b[0m\n",
      "\u001b[32m2024-06-23 17:51:13.086\u001b[0m | \u001b[34m\u001b[1mDEBUG   \u001b[0m | \u001b[36msrc.models\u001b[0m:\u001b[36m__init__\u001b[0m:\u001b[36m39\u001b[0m - \u001b[34m\u001b[1mSeeding model parameters...\u001b[0m\n",
      "\u001b[32m2024-06-23 17:51:13.087\u001b[0m | \u001b[34m\u001b[1mDEBUG   \u001b[0m | \u001b[36msrc.models\u001b[0m:\u001b[36mseed_model_params\u001b[0m:\u001b[36m47\u001b[0m - \u001b[34m\u001b[1mInitial weights already exist at `state_dicts/lora-bert-sst2_cola_kqv_LORA.pt`. Loading...\u001b[0m\n",
      "GPU available: True (cuda), used: True\n",
      "TPU available: False, using: 0 TPU cores\n",
      "IPU available: False, using: 0 IPUs\n",
      "HPU available: False, using: 0 HPUs\n"
     ]
    }
   ],
   "source": [
    "lora_weights = \"state_dicts/lora-bert-sst2_cola_kqv_LORA.pt\"\n",
    "cls_weights = \"state_dicts/lora-bert-sst2_cls.pt\"\n",
    "\n",
    "config.lora.r = 2\n",
    "config.model.init_lora_weights = lora_weights\n",
    "\n",
    "sst2_cola_model = PeftModelForSequenceClassification(config)\n",
    "sst2_cola_model.load_state_dict(torch.load(lora_weights), strict=False)\n",
    "sst2_cola_model.load_state_dict(torch.load(cls_weights), strict=False)\n",
    "\n",
    "trainer = Trainer(\n",
    "    accelerator=config.training.accelerator,\n",
    "    precision=config.training.precision,\n",
    "    deterministic=True,\n",
    ")"
   ]
  },
  {
   "cell_type": "code",
   "execution_count": 66,
   "metadata": {},
   "outputs": [
    {
     "name": "stderr",
     "output_type": "stream",
     "text": [
      "LOCAL_RANK: 0 - CUDA_VISIBLE_DEVICES: [0]\n"
     ]
    },
    {
     "name": "stdout",
     "output_type": "stream",
     "text": [
      "SST2 Model Performance on Training Data\n"
     ]
    },
    {
     "name": "stderr",
     "output_type": "stream",
     "text": [
      "c:\\Users\\nikhi\\Documents\\Projects\\LoRA-Ensembling\\.venv\\Lib\\site-packages\\pytorch_lightning\\trainer\\connectors\\data_connector.py:492: Your `val_dataloader`'s sampler has shuffling enabled, it is strongly recommended that you turn shuffling off for val/test dataloaders.\n"
     ]
    },
    {
     "name": "stdout",
     "output_type": "stream",
     "text": [
      "Validation DataLoader 0: 100%|██████████| 8418/8418 [02:42<00:00, 51.79it/s]\n",
      "────────────────────────────────────────────────────────────────────────────────────────────────────────────────────────\n",
      "     Validate metric           DataLoader 0\n",
      "────────────────────────────────────────────────────────────────────────────────────────────────────────────────────────\n",
      "         val/acc            0.7876425385475159\n",
      "        val/loss            0.47551482915878296\n",
      "────────────────────────────────────────────────────────────────────────────────────────────────────────────────────────\n"
     ]
    },
    {
     "data": {
      "text/plain": [
       "[{'val/loss': 0.47551482915878296, 'val/acc': 0.7876425385475159}]"
      ]
     },
     "execution_count": 66,
     "metadata": {},
     "output_type": "execute_result"
    }
   ],
   "source": [
    "# Model performance on training data\n",
    "print(\"SST2 Model Performance on Training Data\")\n",
    "trainer.validate(sst2_cola_model, dataloaders=sst2_data.train_dataloader())"
   ]
  },
  {
   "cell_type": "code",
   "execution_count": 67,
   "metadata": {},
   "outputs": [
    {
     "name": "stderr",
     "output_type": "stream",
     "text": [
      "LOCAL_RANK: 0 - CUDA_VISIBLE_DEVICES: [0]\n"
     ]
    },
    {
     "name": "stdout",
     "output_type": "stream",
     "text": [
      "SST2 Model Performance on Validation Data\n",
      "Validation DataLoader 0: 100%|██████████| 109/109 [00:02<00:00, 52.20it/s]\n",
      "────────────────────────────────────────────────────────────────────────────────────────────────────────────────────────\n",
      "     Validate metric           DataLoader 0\n",
      "────────────────────────────────────────────────────────────────────────────────────────────────────────────────────────\n",
      "         val/acc            0.7763761281967163\n",
      "        val/loss             0.491356760263443\n",
      "────────────────────────────────────────────────────────────────────────────────────────────────────────────────────────\n"
     ]
    },
    {
     "data": {
      "text/plain": [
       "[{'val/loss': 0.491356760263443, 'val/acc': 0.7763761281967163}]"
      ]
     },
     "execution_count": 67,
     "metadata": {},
     "output_type": "execute_result"
    }
   ],
   "source": [
    "# Model performance on validation data\n",
    "print(\"SST2 Model Performance on Validation Data\")\n",
    "trainer.validate(sst2_cola_model, dataloaders=sst2_data.val_dataloader())"
   ]
  },
  {
   "cell_type": "code",
   "execution_count": 69,
   "metadata": {},
   "outputs": [],
   "source": [
    "sst2_cola_performance_on_sst2 = {'train/loss': 0.47551482915878296, 'train/acc': 0.7876425385475159,\n",
    "                            'val/loss': 0.491356760263443, 'val/acc': 0.7763761281967163}"
   ]
  },
  {
   "cell_type": "markdown",
   "metadata": {},
   "source": [
    "### Exp 02: \n",
    "- No further training\n",
    "- Rank #1: Trained SST2 LoRA weights\n",
    "- Rank #2: Trained CoLA LoRA weights\n",
    "- Classifier head: Trained CoLA's classifier head\n",
    "- Evaluated on: CoLA dataset"
   ]
  },
  {
   "cell_type": "code",
   "execution_count": 70,
   "metadata": {},
   "outputs": [
    {
     "name": "stderr",
     "output_type": "stream",
     "text": [
      "LOCAL_RANK: 0 - CUDA_VISIBLE_DEVICES: [0]\n"
     ]
    },
    {
     "name": "stdout",
     "output_type": "stream",
     "text": [
      "CoLA Model Performance on Training Data\n"
     ]
    },
    {
     "name": "stderr",
     "output_type": "stream",
     "text": [
      "c:\\Users\\nikhi\\Documents\\Projects\\LoRA-Ensembling\\.venv\\Lib\\site-packages\\pytorch_lightning\\trainer\\connectors\\data_connector.py:492: Your `val_dataloader`'s sampler has shuffling enabled, it is strongly recommended that you turn shuffling off for val/test dataloaders.\n",
      "c:\\Users\\nikhi\\Documents\\Projects\\LoRA-Ensembling\\.venv\\Lib\\site-packages\\pytorch_lightning\\trainer\\connectors\\data_connector.py:436: Consider setting `persistent_workers=True` in 'val_dataloader' to speed up the dataloader worker initialization.\n"
     ]
    },
    {
     "name": "stdout",
     "output_type": "stream",
     "text": [
      "Validation DataLoader 0: 100%|██████████| 1068/1068 [00:16<00:00, 64.65it/s]\n",
      "────────────────────────────────────────────────────────────────────────────────────────────────────────────────────────\n",
      "     Validate metric           DataLoader 0\n",
      "────────────────────────────────────────────────────────────────────────────────────────────────────────────────────────\n",
      "         val/acc             0.76170414686203\n",
      "        val/loss            0.5107812285423279\n",
      "────────────────────────────────────────────────────────────────────────────────────────────────────────────────────────\n"
     ]
    },
    {
     "data": {
      "text/plain": [
       "[{'val/loss': 0.5107812285423279, 'val/acc': 0.76170414686203}]"
      ]
     },
     "execution_count": 70,
     "metadata": {},
     "output_type": "execute_result"
    }
   ],
   "source": [
    "cls_weights = \"state_dicts/lora-bert-cola_cls.pt\"\n",
    "\n",
    "sst2_cola_model.load_state_dict(torch.load(cls_weights), strict=False)\n",
    "\n",
    "# Model performance on training data\n",
    "print(\"CoLA Model Performance on Training Data\")\n",
    "trainer.validate(sst2_cola_model, dataloaders=cola_data.train_dataloader())"
   ]
  },
  {
   "cell_type": "code",
   "execution_count": 71,
   "metadata": {},
   "outputs": [
    {
     "name": "stderr",
     "output_type": "stream",
     "text": [
      "LOCAL_RANK: 0 - CUDA_VISIBLE_DEVICES: [0]\n"
     ]
    },
    {
     "name": "stdout",
     "output_type": "stream",
     "text": [
      "CoLA Model Performance on Validation Data\n",
      "Validation DataLoader 0: 100%|██████████| 130/130 [00:02<00:00, 58.77it/s]\n",
      "────────────────────────────────────────────────────────────────────────────────────────────────────────────────────────\n",
      "     Validate metric           DataLoader 0\n",
      "────────────────────────────────────────────────────────────────────────────────────────────────────────────────────────\n",
      "         val/acc            0.7365384697914124\n",
      "        val/loss            0.5675283074378967\n",
      "────────────────────────────────────────────────────────────────────────────────────────────────────────────────────────\n"
     ]
    },
    {
     "data": {
      "text/plain": [
       "[{'val/loss': 0.5675283074378967, 'val/acc': 0.7365384697914124}]"
      ]
     },
     "execution_count": 71,
     "metadata": {},
     "output_type": "execute_result"
    }
   ],
   "source": [
    "# Model performance on validation data\n",
    "print(\"CoLA Model Performance on Validation Data\")\n",
    "trainer.validate(sst2_cola_model, dataloaders=cola_data.val_dataloader())"
   ]
  },
  {
   "cell_type": "code",
   "execution_count": 72,
   "metadata": {},
   "outputs": [],
   "source": [
    "sst2_cola_performance_on_cola = {'train/loss': 0.5107812285423279, 'train/acc': 0.76170414686203,\n",
    "                                'val/loss': 0.5675283074378967, 'val/acc': 0.7365384697914124}"
   ]
  },
  {
   "cell_type": "markdown",
   "metadata": {},
   "source": [
    "### Exp 03: \n",
    "- No further training\n",
    "- Rank #1: Trained CoLA LoRA weights\n",
    "- Rank #2: Trained SST2 LoRA weights\n",
    "- Classifier head: Trained CoLA's classifier head\n",
    "- Evaluated on: CoLA dataset"
   ]
  },
  {
   "cell_type": "code",
   "execution_count": 74,
   "metadata": {},
   "outputs": [
    {
     "name": "stderr",
     "output_type": "stream",
     "text": [
      "\u001b[32m2024-06-23 18:07:02.852\u001b[0m | \u001b[34m\u001b[1mDEBUG   \u001b[0m | \u001b[36msrc.models\u001b[0m:\u001b[36m__init__\u001b[0m:\u001b[36m24\u001b[0m - \u001b[34m\u001b[1mLoading model bert-base-uncased...\u001b[0m\n",
      "Some weights of BertForSequenceClassification were not initialized from the model checkpoint at bert-base-uncased and are newly initialized: ['classifier.bias', 'classifier.weight']\n",
      "You should probably TRAIN this model on a down-stream task to be able to use it for predictions and inference.\n",
      "\u001b[32m2024-06-23 18:07:04.858\u001b[0m | \u001b[34m\u001b[1mDEBUG   \u001b[0m | \u001b[36msrc.models\u001b[0m:\u001b[36m__init__\u001b[0m:\u001b[36m36\u001b[0m - \u001b[34m\u001b[1mCreating LoRA model...\u001b[0m\n",
      "\u001b[32m2024-06-23 18:07:04.875\u001b[0m | \u001b[34m\u001b[1mDEBUG   \u001b[0m | \u001b[36msrc.models\u001b[0m:\u001b[36m__init__\u001b[0m:\u001b[36m39\u001b[0m - \u001b[34m\u001b[1mSeeding model parameters...\u001b[0m\n",
      "\u001b[32m2024-06-23 18:07:04.875\u001b[0m | \u001b[34m\u001b[1mDEBUG   \u001b[0m | \u001b[36msrc.models\u001b[0m:\u001b[36mseed_model_params\u001b[0m:\u001b[36m47\u001b[0m - \u001b[34m\u001b[1mInitial weights already exist at `state_dicts/lora-bert-cola_sst2_kqv_LORA.pt`. Loading...\u001b[0m\n",
      "LOCAL_RANK: 0 - CUDA_VISIBLE_DEVICES: [0]\n"
     ]
    },
    {
     "name": "stdout",
     "output_type": "stream",
     "text": [
      "CoLA Model Performance on Training Data\n",
      "Validation DataLoader 0:  46%|████▌     | 490/1068 [01:07<01:19,  7.28it/s]\n",
      "Validation: |          | 1068/? [00:17<00:00, 61.79it/s]\n",
      "────────────────────────────────────────────────────────────────────────────────────────────────────────────────────────\n",
      "     Validate metric           DataLoader 0\n",
      "────────────────────────────────────────────────────────────────────────────────────────────────────────────────────────\n",
      "         val/acc            0.7618211507797241\n",
      "        val/loss             0.510724663734436\n",
      "────────────────────────────────────────────────────────────────────────────────────────────────────────────────────────\n"
     ]
    },
    {
     "data": {
      "text/plain": [
       "[{'val/loss': 0.510724663734436, 'val/acc': 0.7618211507797241}]"
      ]
     },
     "execution_count": 74,
     "metadata": {},
     "output_type": "execute_result"
    }
   ],
   "source": [
    "lora_weights = \"state_dicts/lora-bert-cola_sst2_kqv_LORA.pt\"\n",
    "cls_weights = \"state_dicts/lora-bert-cola_cls.pt\"\n",
    "\n",
    "config.lora.r = 2\n",
    "config.model.init_lora_weights = lora_weights\n",
    "\n",
    "cola_sst2_model = PeftModelForSequenceClassification(config)\n",
    "cola_sst2_model.load_state_dict(torch.load(lora_weights), strict=False)\n",
    "cola_sst2_model.load_state_dict(torch.load(cls_weights), strict=False)\n",
    "\n",
    "# Model performance on training data\n",
    "print(\"CoLA Model Performance on Training Data\")\n",
    "trainer.validate(cola_sst2_model, dataloaders=cola_data.train_dataloader())"
   ]
  },
  {
   "cell_type": "code",
   "execution_count": 75,
   "metadata": {},
   "outputs": [
    {
     "name": "stderr",
     "output_type": "stream",
     "text": [
      "LOCAL_RANK: 0 - CUDA_VISIBLE_DEVICES: [0]\n"
     ]
    },
    {
     "name": "stdout",
     "output_type": "stream",
     "text": [
      "CoLA Model Performance on Validation Data\n"
     ]
    },
    {
     "name": "stderr",
     "output_type": "stream",
     "text": [
      "c:\\Users\\nikhi\\Documents\\Projects\\LoRA-Ensembling\\.venv\\Lib\\site-packages\\pytorch_lightning\\trainer\\connectors\\data_connector.py:436: Consider setting `persistent_workers=True` in 'val_dataloader' to speed up the dataloader worker initialization.\n"
     ]
    },
    {
     "name": "stdout",
     "output_type": "stream",
     "text": [
      "Validation DataLoader 0: 100%|██████████| 130/130 [00:02<00:00, 49.66it/s]\n",
      "────────────────────────────────────────────────────────────────────────────────────────────────────────────────────────\n",
      "     Validate metric           DataLoader 0\n",
      "────────────────────────────────────────────────────────────────────────────────────────────────────────────────────────\n",
      "         val/acc            0.7365384697914124\n",
      "        val/loss            0.5675283074378967\n",
      "────────────────────────────────────────────────────────────────────────────────────────────────────────────────────────\n"
     ]
    },
    {
     "data": {
      "text/plain": [
       "[{'val/loss': 0.5675283074378967, 'val/acc': 0.7365384697914124}]"
      ]
     },
     "execution_count": 75,
     "metadata": {},
     "output_type": "execute_result"
    }
   ],
   "source": [
    "# Model performance on validation data\n",
    "print(\"CoLA Model Performance on Validation Data\")\n",
    "trainer.validate(cola_sst2_model, dataloaders=cola_data.val_dataloader())"
   ]
  },
  {
   "cell_type": "code",
   "execution_count": 76,
   "metadata": {},
   "outputs": [],
   "source": [
    "cola_sst2_performance_on_cola = {'train/loss': 0.510724663734436, 'train/acc': 0.7618211507797241,\n",
    "                                 'val/loss': 0.5675283074378967, 'val/acc': 0.7365384697914124}\n"
   ]
  },
  {
   "cell_type": "markdown",
   "metadata": {},
   "source": [
    "### Exp 04: \n",
    "- No further training\n",
    "- Rank #1: Trained CoLA LoRA weights\n",
    "- Rank #2: Trained SST2 LoRA weights\n",
    "- Classifier head: Trained SST2's classifier head\n",
    "- Evaluated on: SST2 dataset"
   ]
  },
  {
   "cell_type": "code",
   "execution_count": 77,
   "metadata": {},
   "outputs": [
    {
     "name": "stderr",
     "output_type": "stream",
     "text": [
      "LOCAL_RANK: 0 - CUDA_VISIBLE_DEVICES: [0]\n"
     ]
    },
    {
     "name": "stdout",
     "output_type": "stream",
     "text": [
      "SST2 Model Performance on Training Data\n"
     ]
    },
    {
     "name": "stderr",
     "output_type": "stream",
     "text": [
      "c:\\Users\\nikhi\\Documents\\Projects\\LoRA-Ensembling\\.venv\\Lib\\site-packages\\pytorch_lightning\\trainer\\connectors\\data_connector.py:492: Your `val_dataloader`'s sampler has shuffling enabled, it is strongly recommended that you turn shuffling off for val/test dataloaders.\n"
     ]
    },
    {
     "name": "stdout",
     "output_type": "stream",
     "text": [
      "Validation DataLoader 0: 100%|██████████| 8418/8418 [02:35<00:00, 54.16it/s]\n",
      "────────────────────────────────────────────────────────────────────────────────────────────────────────────────────────\n",
      "     Validate metric           DataLoader 0\n",
      "────────────────────────────────────────────────────────────────────────────────────────────────────────────────────────\n",
      "         val/acc             0.787672221660614\n",
      "        val/loss            0.47552019357681274\n",
      "────────────────────────────────────────────────────────────────────────────────────────────────────────────────────────\n"
     ]
    },
    {
     "data": {
      "text/plain": [
       "[{'val/loss': 0.47552019357681274, 'val/acc': 0.787672221660614}]"
      ]
     },
     "execution_count": 77,
     "metadata": {},
     "output_type": "execute_result"
    }
   ],
   "source": [
    "cls_weights = \"state_dicts/lora-bert-sst2_cls.pt\"\n",
    "\n",
    "cola_sst2_model.load_state_dict(torch.load(cls_weights), strict=False)\n",
    "\n",
    "# Model performance on training data\n",
    "print(\"SST2 Model Performance on Training Data\")\n",
    "trainer.validate(cola_sst2_model, dataloaders=sst2_data.train_dataloader())"
   ]
  },
  {
   "cell_type": "code",
   "execution_count": 78,
   "metadata": {},
   "outputs": [
    {
     "name": "stderr",
     "output_type": "stream",
     "text": [
      "LOCAL_RANK: 0 - CUDA_VISIBLE_DEVICES: [0]\n"
     ]
    },
    {
     "name": "stdout",
     "output_type": "stream",
     "text": [
      "SST2 Model Performance on Validation Data\n",
      "Validation DataLoader 0: 100%|██████████| 109/109 [00:02<00:00, 48.48it/s]\n",
      "────────────────────────────────────────────────────────────────────────────────────────────────────────────────────────\n",
      "     Validate metric           DataLoader 0\n",
      "────────────────────────────────────────────────────────────────────────────────────────────────────────────────────────\n",
      "         val/acc            0.7763761281967163\n",
      "        val/loss             0.491356760263443\n",
      "────────────────────────────────────────────────────────────────────────────────────────────────────────────────────────\n"
     ]
    },
    {
     "data": {
      "text/plain": [
       "[{'val/loss': 0.491356760263443, 'val/acc': 0.7763761281967163}]"
      ]
     },
     "execution_count": 78,
     "metadata": {},
     "output_type": "execute_result"
    }
   ],
   "source": [
    "# Model performance on validation data\n",
    "print(\"SST2 Model Performance on Validation Data\")\n",
    "trainer.validate(cola_sst2_model, dataloaders=sst2_data.val_dataloader())"
   ]
  },
  {
   "cell_type": "code",
   "execution_count": null,
   "metadata": {},
   "outputs": [],
   "source": [
    "cola_sst2_performance_on_sst2 = {'train/loss': 0.47552019357681274, 'train/acc': 0.787672221660614,\n",
    "                                 'val/loss': 0.491356760263443, 'val/acc': 0.7763761281967163}"
   ]
  },
  {
   "cell_type": "markdown",
   "metadata": {},
   "source": [
    "### Performance difference from the baseline"
   ]
  },
  {
   "cell_type": "code",
   "execution_count": 93,
   "metadata": {},
   "outputs": [],
   "source": [
    "import matplotlib.pyplot as plt\n",
    "\n",
    "sst2_baseline = {'train/loss': 0.3071436285972595, 'train/acc': 0.8725202083587646,\n",
    "                 'val/loss': 0.3317883610725403, 'val/acc': 0.8463302850723267}\n",
    "\n",
    "cola_baseline = {'train/loss': 0.23546119034290314, 'train/acc': 0.9183052778244019,\n",
    "                 'val/loss': 0.41714978218078613, 'val/acc': 0.8144230842590332}\n",
    "\n",
    "sst2_cola_performance_on_sst2 = {'train/loss': 0.47551482915878296, 'train/acc': 0.7876425385475159,\n",
    "                            'val/loss': 0.491356760263443, 'val/acc': 0.7763761281967163}\n",
    "\n",
    "sst2_cola_performance_on_cola = {'train/loss': 0.5107812285423279, 'train/acc': 0.76170414686203,\n",
    "                                'val/loss': 0.5675283074378967, 'val/acc': 0.7365384697914124}\n",
    "\n",
    "cola_sst2_performance_on_cola = {'train/loss': 0.510724663734436, 'train/acc': 0.7618211507797241,\n",
    "                                 'val/loss': 0.5675283074378967, 'val/acc': 0.7365384697914124}\n",
    "\n",
    "\n",
    "cola_sst2_performance_on_sst2 = {'train/loss': 0.47552019357681274, 'train/acc': 0.787672221660614,\n",
    "                                 'val/loss': 0.491356760263443, 'val/acc': 0.7763761281967163}\n",
    "\n",
    "def plot_metric_comparison(baseline, stacked_perf, title):\n",
    "    groups = [\"train/loss\", \"train/acc\", \"val/loss\", \"val/acc\"]\n",
    "    data = {\n",
    "        \"Baseline\": [baseline[\"train/loss\"], baseline[\"train/acc\"], baseline[\"val/loss\"], baseline[\"val/acc\"]],\n",
    "        \"Stacked_LoRA\": [stacked_perf[\"train/loss\"], stacked_perf[\"train/acc\"], stacked_perf[\"val/loss\"], stacked_perf[\"val/acc\"]],\n",
    "    }\n",
    "    \n",
    "    x = range(len(groups))\n",
    "    width = 0.35\n",
    "    \n",
    "    fig, ax = plt.subplots(figsize=(12, 6))\n",
    "    \n",
    "    for i, (label, values) in enumerate(data.items()):\n",
    "        ax.bar([j + width * i for j in x], values, width=width, label=label)\n",
    "        \n",
    "    ax.set_xticks([j + width / 2 for j in x])\n",
    "    ax.set_xticklabels(groups)\n",
    "    ax.set_title(title)\n",
    "    ax.grid()\n",
    "    ax.legend()\n",
    "    \n",
    "    plt.show()"
   ]
  },
  {
   "cell_type": "code",
   "execution_count": 95,
   "metadata": {},
   "outputs": [
    {
     "data": {
      "image/png": "[encoded data removed]",
      "text/plain": [
       "<Figure size 1200x600 with 1 Axes>"
      ]
     },
     "metadata": {},
     "output_type": "display_data"
    },
    {
     "data": {
      "image/png": "[encoded data removed]",
      "text/plain": [
       "<Figure size 1200x600 with 1 Axes>"
      ]
     },
     "metadata": {},
     "output_type": "display_data"
    },
    {
     "data": {
      "image/png": "[encoded data removed]",
      "text/plain": [
       "<Figure size 1200x600 with 1 Axes>"
      ]
     },
     "metadata": {},
     "output_type": "display_data"
    },
    {
     "data": {
      "image/png": "[encoded data removed]",
      "text/plain": [
       "<Figure size 1200x600 with 1 Axes>"
      ]
     },
     "metadata": {},
     "output_type": "display_data"
    }
   ],
   "source": [
    "plot_metric_comparison(sst2_baseline, sst2_cola_performance_on_sst2, \"SST2-CoLA Model Performance on SST2\")\n",
    "plot_metric_comparison(cola_baseline, sst2_cola_performance_on_cola, \"SST2-CoLA Model Performance on CoLA\")\n",
    "plot_metric_comparison(cola_baseline, cola_sst2_performance_on_cola, \"CoLA-SST2 Model Performance on CoLA\")\n",
    "plot_metric_comparison(sst2_baseline, cola_sst2_performance_on_sst2, \"CoLA-SST2 Model Performance on SST2\")"
   ]
  },
  {
   "cell_type": "code",
   "execution_count": null,
   "metadata": {},
   "outputs": [],
   "source": []
  }
 ],
 "metadata": {
  "kernelspec": {
   "display_name": ".venv",
   "language": "python",
   "name": "python3"
  },
  "language_info": {
   "codemirror_mode": {
    "name": "ipython",
    "version": 3
   },
   "file_extension": ".py",
   "mimetype": "text/x-python",
   "name": "python",
   "nbconvert_exporter": "python",
   "pygments_lexer": "ipython3",
   "version": "3.11.4"
  }
 },
 "nbformat": 4,
 "nbformat_minor": 2
}
