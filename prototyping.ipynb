{
 "cells": [
  {
   "cell_type": "code",
   "execution_count": 1,
   "metadata": {},
   "outputs": [
    {
     "name": "stderr",
     "output_type": "stream",
     "text": [
      "c:\\Users\\nikhi\\Documents\\Projects\\LoRA-Ensembling\\.venv\\Lib\\site-packages\\tqdm\\auto.py:21: TqdmWarning: IProgress not found. Please update jupyter and ipywidgets. See https://ipywidgets.readthedocs.io/en/stable/user_install.html\n",
      "  from .autonotebook import tqdm as notebook_tqdm\n"
     ]
    }
   ],
   "source": [
    "import torch\n",
    "import torch.nn as nn\n",
    "from src.config import get_lora_config\n",
    "\n",
    "from transformers import AutoModelForSequenceClassification, AutoTokenizer"
   ]
  },
  {
   "cell_type": "code",
   "execution_count": 2,
   "metadata": {},
   "outputs": [],
   "source": [
    "class LoRALayer(nn.Module):\n",
    "    def __init__(self, in_dim, out_dim, lora_config):\n",
    "        super().__init__()\n",
    "        self.lora_config = lora_config\n",
    "        std_dev = 1 / torch.sqrt(torch.tensor(self.lora_config.r).float())\n",
    "        self.lora_A = torch.nn.Parameter(\n",
    "            torch.randn(in_dim, self.lora_config.r) * std_dev\n",
    "        )\n",
    "        self.lora_B = torch.nn.Parameter(torch.zeros(self.lora_config.r, out_dim))\n",
    "\n",
    "    def forward(self, x):\n",
    "        x = self.lora_config.lora_alpha * (x @ self.lora_A @ self.lora_B)\n",
    "        return x\n",
    "\n",
    "\n",
    "class LinearWithLoRA(nn.Module):\n",
    "    def __init__(self, linear, lora_config):\n",
    "        super().__init__()\n",
    "        self.linear = linear\n",
    "        self.lora = LoRALayer(linear.in_features, linear.out_features, lora_config)\n",
    "\n",
    "    def forward(self, x):\n",
    "        return self.linear(x) + self.lora(x)\n"
   ]
  },
  {
   "cell_type": "code",
   "execution_count": 3,
   "metadata": {},
   "outputs": [
    {
     "name": "stderr",
     "output_type": "stream",
     "text": [
      "Some weights of BertForSequenceClassification were not initialized from the model checkpoint at bert-base-uncased and are newly initialized: ['classifier.bias', 'classifier.weight']\n",
      "You should probably TRAIN this model on a down-stream task to be able to use it for predictions and inference.\n"
     ]
    }
   ],
   "source": [
    "model = AutoModelForSequenceClassification.from_pretrained(\"bert-base-uncased\", num_labels=2)\n",
    "\n",
    "lora_config = get_lora_config(rank=1, target_mods=\"vo\")\n",
    "\n",
    "for i in range(12):\n",
    "    if \"query\" in lora_config.target_modules:\n",
    "        model.bert.encoder.layer[i].attention.self.query = LinearWithLoRA(\n",
    "            model.bert.encoder.layer[i].attention.self.query, lora_config\n",
    "        )\n",
    "    if \"key\" in lora_config.target_modules:\n",
    "        model.bert.encoder.layer[i].attention.self.key = LinearWithLoRA(\n",
    "            model.bert.encoder.layer[i].attention.self.key, lora_config\n",
    "        )\n",
    "    if \"value\" in lora_config.target_modules:\n",
    "        model.bert.encoder.layer[i].attention.self.value = LinearWithLoRA(\n",
    "            model.bert.encoder.layer[i].attention.self.value, lora_config\n",
    "        )\n",
    "    if \"output\" in lora_config.target_modules:\n",
    "        model.bert.encoder.layer[i].attention.output.dense = LinearWithLoRA(\n",
    "            model.bert.encoder.layer[i].attention.output.dense, lora_config\n",
    "        )"
   ]
  }
 ],
 "metadata": {
  "kernelspec": {
   "display_name": ".venv",
   "language": "python",
   "name": "python3"
  },
  "language_info": {
   "codemirror_mode": {
    "name": "ipython",
    "version": 3
   },
   "file_extension": ".py",
   "mimetype": "text/x-python",
   "name": "python",
   "nbconvert_exporter": "python",
   "pygments_lexer": "ipython3",
   "version": "3.11.4"
  }
 },
 "nbformat": 4,
 "nbformat_minor": 2
}
