{
 "cells": [
  {
   "cell_type": "markdown",
   "metadata": {},
   "source": [
    "# Text Classification with BERT"
   ]
  },
  {
   "cell_type": "code",
   "execution_count": 2,
   "metadata": {},
   "outputs": [
    {
     "name": "stderr",
     "output_type": "stream",
     "text": [
      "c:\\Users\\nikhi\\Documents\\Projects\\LoRA-BERT\\.venv\\Lib\\site-packages\\tqdm\\auto.py:21: TqdmWarning: IProgress not found. Please update jupyter and ipywidgets. See https://ipywidgets.readthedocs.io/en/stable/user_install.html\n",
      "  from .autonotebook import tqdm as notebook_tqdm\n"
     ]
    }
   ],
   "source": [
    "import torch\n",
    "from transformers import AutoModelForSequenceClassification\n",
    "from peft import LoraConfig, get_peft_model\n",
    "from ml_collections import ConfigDict\n",
    "\n",
    "from src.data import SequenceClassificationDataModule"
   ]
  },
  {
   "cell_type": "code",
   "execution_count": 3,
   "metadata": {},
   "outputs": [],
   "source": [
    "# Model and Data Configurations\n",
    "MODEL_NAME = \"bert-base-uncased\"\n",
    "DATASET_NAME = (\"glue\", \"sst2\")\n",
    "NUM_WORKERS = 1\n",
    "BATCH_SIZE = 4\n",
    "INIT_PATH = \"cache/models/lora_bert_cls_init/model_state_0.pt\"\n",
    "\n",
    "# Lora Configuration\n",
    "config_dict = {\n",
    "        \"r\": 3,\n",
    "        \"lora_alpha\": 8,\n",
    "        \"target_modules\": [\"key\", \"query\", \"value\"],\n",
    "        \"modules_to_save\": [\"classifier\"],\n",
    "    }\n"
   ]
  },
  {
   "cell_type": "code",
   "execution_count": 4,
   "metadata": {},
   "outputs": [
    {
     "name": "stderr",
     "output_type": "stream",
     "text": [
      "Map: 100%|██████████| 1821/1821 [00:00<00:00, 2159.92 examples/s]\n"
     ]
    }
   ],
   "source": [
    "data_module = SequenceClassificationDataModule(\n",
    "    model_name=MODEL_NAME,\n",
    "    dataset_name=DATASET_NAME,\n",
    "    num_workers=NUM_WORKERS,\n",
    "    batch_size=BATCH_SIZE,\n",
    ")\n",
    "\n",
    "data_module.setup()\n",
    "trainloader = data_module.train_dataloader()\n",
    "valloader = data_module.val_dataloader()\n",
    "testloader = data_module.test_dataloader()"
   ]
  },
  {
   "cell_type": "code",
   "execution_count": 5,
   "metadata": {},
   "outputs": [
    {
     "data": {
      "text/plain": [
       "Dataset({\n",
       "    features: ['sentence', 'label', 'idx'],\n",
       "    num_rows: 67349\n",
       "})"
      ]
     },
     "execution_count": 5,
     "metadata": {},
     "output_type": "execute_result"
    }
   ],
   "source": [
    "data_module.dataset[\"train\"]"
   ]
  },
  {
   "cell_type": "code",
   "execution_count": 6,
   "metadata": {},
   "outputs": [
    {
     "name": "stderr",
     "output_type": "stream",
     "text": [
      "Some weights of BertForSequenceClassification were not initialized from the model checkpoint at bert-base-uncased and are newly initialized: ['classifier.bias', 'classifier.weight']\n",
      "You should probably TRAIN this model on a down-stream task to be able to use it for predictions and inference.\n"
     ]
    },
    {
     "data": {
      "text/plain": [
       "<All keys matched successfully>"
      ]
     },
     "execution_count": 6,
     "metadata": {},
     "output_type": "execute_result"
    }
   ],
   "source": [
    "# PEFT Config\n",
    "lora_config = LoraConfig(**config_dict)\n",
    "\n",
    "# Load BERT and PEFT Model\n",
    "bert = AutoModelForSequenceClassification.from_pretrained(MODEL_NAME, cache_dir=\"cache/models\")\n",
    "lora_bert = get_peft_model(bert, lora_config)\n",
    "\n",
    "# Save the initial model state\n",
    "model_state = lora_bert.state_dict()\n",
    "torch.save(model_state, INIT_PATH)\n",
    "\n",
    "# Load the initial model state\n",
    "model_state = torch.load(INIT_PATH)\n",
    "lora_bert.load_state_dict(model_state)"
   ]
  },
  {
   "cell_type": "code",
   "execution_count": 11,
   "metadata": {},
   "outputs": [
    {
     "data": {
      "text/plain": [
       "SequenceClassifierOutput(loss=tensor(0.8282, grad_fn=<NllLossBackward0>), logits=tensor([[ 0.6967, -0.1019],\n",
       "        [ 0.9714,  0.0601],\n",
       "        [ 1.0416, -0.2116],\n",
       "        [ 1.0746, -0.2415]], grad_fn=<AddmmBackward0>), hidden_states=None, attentions=None)"
      ]
     },
     "execution_count": 11,
     "metadata": {},
     "output_type": "execute_result"
    }
   ],
   "source": [
    "batch = next(iter(trainloader))\n",
    "output = lora_bert(**batch)\n",
    "output"
   ]
  },
  {
   "cell_type": "code",
   "execution_count": 17,
   "metadata": {},
   "outputs": [
    {
     "data": {
      "text/plain": [
       "tensor(0.5000, device='cuda:0')"
      ]
     },
     "execution_count": 17,
     "metadata": {},
     "output_type": "execute_result"
    }
   ],
   "source": [
    "from torchmetrics import Accuracy\n",
    "\n",
    "acc_metric = Accuracy(task=\"multiclass\", num_classes=2).to(\"cuda\")\n",
    "acc_metric(output.logits, batch[\"labels\"])\n"
   ]
  }
 ],
 "metadata": {
  "kernelspec": {
   "display_name": ".venv",
   "language": "python",
   "name": "python3"
  },
  "language_info": {
   "codemirror_mode": {
    "name": "ipython",
    "version": 3
   },
   "file_extension": ".py",
   "mimetype": "text/x-python",
   "name": "python",
   "nbconvert_exporter": "python",
   "pygments_lexer": "ipython3",
   "version": "3.11.4"
  }
 },
 "nbformat": 4,
 "nbformat_minor": 2
}
