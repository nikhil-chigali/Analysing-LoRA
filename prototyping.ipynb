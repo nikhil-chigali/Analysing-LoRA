{
 "cells": [
  {
   "cell_type": "markdown",
   "metadata": {},
   "source": [
    "# Text Classification with BERT"
   ]
  },
  {
   "cell_type": "code",
   "execution_count": 22,
   "metadata": {},
   "outputs": [],
   "source": [
    "import torch\n",
    "import pytorch_lightning as pl\n",
    "from transformers import AutoModelForSequenceClassification\n",
    "from peft import LoraConfig, get_peft_model\n",
    "from ml_collections import ConfigDict\n",
    "\n",
    "from src.models import PeftModelForSequenceClassification\n",
    "from src.data import SequenceClassificationDataModule\n",
    "from src.config import get_config"
   ]
  },
  {
   "cell_type": "code",
   "execution_count": 23,
   "metadata": {},
   "outputs": [
    {
     "name": "stderr",
     "output_type": "stream",
     "text": [
      "\u001b[32m2024-06-16 09:30:22.492\u001b[0m | \u001b[34m\u001b[1mDEBUG   \u001b[0m | \u001b[36msrc.models\u001b[0m:\u001b[36m__init__\u001b[0m:\u001b[36m22\u001b[0m - \u001b[34m\u001b[1mLoading model bert-base-uncased...\u001b[0m\n",
      "Some weights of BertForSequenceClassification were not initialized from the model checkpoint at bert-base-uncased and are newly initialized: ['classifier.bias', 'classifier.weight']\n",
      "You should probably TRAIN this model on a down-stream task to be able to use it for predictions and inference.\n",
      "\u001b[32m2024-06-16 09:30:23.583\u001b[0m | \u001b[34m\u001b[1mDEBUG   \u001b[0m | \u001b[36msrc.models\u001b[0m:\u001b[36m__init__\u001b[0m:\u001b[36m34\u001b[0m - \u001b[34m\u001b[1mCreating LoRA model...\u001b[0m\n",
      "\u001b[32m2024-06-16 09:30:23.601\u001b[0m | \u001b[34m\u001b[1mDEBUG   \u001b[0m | \u001b[36msrc.models\u001b[0m:\u001b[36m__init__\u001b[0m:\u001b[36m37\u001b[0m - \u001b[34m\u001b[1mSeeding model parameters...\u001b[0m\n",
      "\u001b[32m2024-06-16 09:30:23.601\u001b[0m | \u001b[34m\u001b[1mDEBUG   \u001b[0m | \u001b[36msrc.models\u001b[0m:\u001b[36mseed_model_params\u001b[0m:\u001b[36m45\u001b[0m - \u001b[34m\u001b[1mInitial weights already exist. Loading...\u001b[0m\n"
     ]
    }
   ],
   "source": [
    "config = get_config(\"testing\", 1)\n",
    "model_path = \"experiments\\lora_bert_sst2_sanity\\checkpoints\\epoch=0-step=12627.ckpt\"\n",
    "\n",
    "model = PeftModelForSequenceClassification.load_from_checkpoint(model_path)"
   ]
  },
  {
   "cell_type": "code",
   "execution_count": 5,
   "metadata": {},
   "outputs": [],
   "source": [
    "# Model and Data Configurations\n",
    "MODEL_NAME = \"bert-base-uncased\"\n",
    "DATASET_NAME = (\"glue\", \"sst2\")\n",
    "NUM_WORKERS = 1\n",
    "BATCH_SIZE = 4\n",
    "INIT_PATH = \"cache/models/lora_bert_cls_init/model_state_0.pt\"\n",
    "\n",
    "# Lora Configuration\n",
    "config_dict = {\n",
    "        \"r\": 3,\n",
    "        \"lora_alpha\": 8,\n",
    "        \"target_modules\": [\"key\", \"query\", \"value\"],\n",
    "        \"modules_to_save\": [\"classifier\"],\n",
    "    }\n"
   ]
  },
  {
   "cell_type": "code",
   "execution_count": 6,
   "metadata": {},
   "outputs": [],
   "source": [
    "data_module = SequenceClassificationDataModule(\n",
    "    model_name=MODEL_NAME,\n",
    "    dataset_name=DATASET_NAME,\n",
    "    num_workers=NUM_WORKERS,\n",
    "    batch_size=BATCH_SIZE,\n",
    ")\n",
    "\n",
    "data_module.setup()\n",
    "trainloader = data_module.train_dataloader()\n",
    "valloader = data_module.val_dataloader()\n",
    "testloader = data_module.test_dataloader()"
   ]
  },
  {
   "cell_type": "code",
   "execution_count": 27,
   "metadata": {},
   "outputs": [
    {
     "name": "stderr",
     "output_type": "stream",
     "text": [
      "GPU available: True (cuda), used: True\n",
      "TPU available: False, using: 0 TPU cores\n",
      "IPU available: False, using: 0 IPUs\n",
      "HPU available: False, using: 0 HPUs\n"
     ]
    }
   ],
   "source": [
    "callbacks = [\n",
    "    pl.callbacks.ModelCheckpoint(\n",
    "        dirpath=f\"experiments/lora_bert_sst2_sanity/checkpoints\",\n",
    "        save_top_k=1,\n",
    "        monitor=\"val/acc\",\n",
    "        mode=\"max\",\n",
    "    ),\n",
    "    # EarlyStopping(\n",
    "    #     monitor=\"val/loss\",\n",
    "    #     patience=config.training.early_stopping_patience,\n",
    "    #     mode=\"min\",\n",
    "    # ),\n",
    "]\n",
    "\n",
    "# loggers = [\n",
    "#     CSVLogger(f\"experiments/{exp_name}/logs/\"),\n",
    "#     WandbLogger(\n",
    "#         project=\"LoRA-Ensembling\",\n",
    "#         name=exp_name,\n",
    "#         log_model=True,\n",
    "#         save_dir=\"experiments\",\n",
    "#     ),\n",
    "# ]\n",
    "\n",
    "# Trainer\n",
    "trainer = pl.Trainer(\n",
    "    max_epochs=1,\n",
    "    accelerator=\"gpu\",\n",
    "    precision=\"32\",\n",
    "    val_check_interval=3,\n",
    "    callbacks=callbacks,\n",
    "    # logger=loggers,\n",
    ")"
   ]
  },
  {
   "cell_type": "code",
   "execution_count": 28,
   "metadata": {},
   "outputs": [
    {
     "name": "stderr",
     "output_type": "stream",
     "text": [
      "LOCAL_RANK: 0 - CUDA_VISIBLE_DEVICES: [0]\n",
      "\u001b[32m2024-06-16 09:31:27.963\u001b[0m | \u001b[34m\u001b[1mDEBUG   \u001b[0m | \u001b[36msrc.models\u001b[0m:\u001b[36mconfigure_optimizers\u001b[0m:\u001b[36m108\u001b[0m - \u001b[34m\u001b[1mConfiguring optimizer and lr scheduler...\u001b[0m\n",
      "\n",
      "  | Name       | Type                          | Params\n",
      "-------------------------------------------------------------\n",
      "0 | accuracy   | MulticlassAccuracy            | 0     \n",
      "1 | base_model | BertForSequenceClassification | 109 M \n",
      "2 | model      | PeftModel                     | 109 M \n",
      "-------------------------------------------------------------\n",
      "56.8 K    Trainable params\n",
      "109 M     Non-trainable params\n",
      "109 M     Total params\n",
      "438.162   Total estimated model params size (MB)\n"
     ]
    },
    {
     "name": "stdout",
     "output_type": "stream",
     "text": [
      "Epoch 0:   4%|▍         | 672/16837 [27:47<11:08:24,  0.40it/s, v_num=2, train/loss=0.0424, train/acc=1.000, val/loss=0.312, val/acc=0.859]"
     ]
    }
   ],
   "source": [
    "model.config = config\n",
    "trainer.fit(model, trainloader, valloader)\n"
   ]
  },
  {
   "cell_type": "code",
   "execution_count": 6,
   "metadata": {},
   "outputs": [
    {
     "name": "stderr",
     "output_type": "stream",
     "text": [
      "Some weights of BertForSequenceClassification were not initialized from the model checkpoint at bert-base-uncased and are newly initialized: ['classifier.bias', 'classifier.weight']\n",
      "You should probably TRAIN this model on a down-stream task to be able to use it for predictions and inference.\n"
     ]
    },
    {
     "data": {
      "text/plain": [
       "<All keys matched successfully>"
      ]
     },
     "execution_count": 6,
     "metadata": {},
     "output_type": "execute_result"
    }
   ],
   "source": [
    "# PEFT Config\n",
    "lora_config = LoraConfig(**config_dict)\n",
    "\n",
    "# Load BERT and PEFT Model\n",
    "bert = AutoModelForSequenceClassification.from_pretrained(MODEL_NAME, cache_dir=\"cache/models\")\n",
    "lora_bert = get_peft_model(bert, lora_config)\n",
    "\n",
    "# Save the initial model state\n",
    "model_state = lora_bert.state_dict()\n",
    "torch.save(model_state, INIT_PATH)\n",
    "\n",
    "# Load the initial model state\n",
    "model_state = torch.load(INIT_PATH)\n",
    "lora_bert.load_state_dict(model_state)"
   ]
  },
  {
   "cell_type": "code",
   "execution_count": 11,
   "metadata": {},
   "outputs": [
    {
     "data": {
      "text/plain": [
       "SequenceClassifierOutput(loss=tensor(0.8282, grad_fn=<NllLossBackward0>), logits=tensor([[ 0.6967, -0.1019],\n",
       "        [ 0.9714,  0.0601],\n",
       "        [ 1.0416, -0.2116],\n",
       "        [ 1.0746, -0.2415]], grad_fn=<AddmmBackward0>), hidden_states=None, attentions=None)"
      ]
     },
     "execution_count": 11,
     "metadata": {},
     "output_type": "execute_result"
    }
   ],
   "source": [
    "batch = next(iter(trainloader))\n",
    "output = lora_bert(**batch)\n",
    "output"
   ]
  },
  {
   "cell_type": "code",
   "execution_count": null,
   "metadata": {},
   "outputs": [],
   "source": []
  },
  {
   "cell_type": "code",
   "execution_count": 51,
   "metadata": {},
   "outputs": [],
   "source": [
    "state_dict = lora_bert.state_dict()\n",
    "\n",
    "for name in lora_bert.state_dict():\n",
    "    if \"lora\" not in name:\n",
    "        state_dict.pop(name)"
   ]
  },
  {
   "cell_type": "code",
   "execution_count": 48,
   "metadata": {},
   "outputs": [],
   "source": [
    "torch.save(state_dict, \"testing.pt\")\n",
    "torch.save(lora_bert.state_dict(), \"testing_full.pt\")"
   ]
  },
  {
   "cell_type": "code",
   "execution_count": 49,
   "metadata": {},
   "outputs": [
    {
     "name": "stderr",
     "output_type": "stream",
     "text": [
      "Some weights of BertForSequenceClassification were not initialized from the model checkpoint at bert-base-uncased and are newly initialized: ['classifier.bias', 'classifier.weight']\n",
      "You should probably TRAIN this model on a down-stream task to be able to use it for predictions and inference.\n"
     ]
    }
   ],
   "source": [
    "lora_bert_3 = get_peft_model(\n",
    "    AutoModelForSequenceClassification.from_pretrained(\"bert-base-uncased\", num_labels=3, cache_dir=\"cache/models\"),\n",
    "    lora_config,\n",
    ")"
   ]
  },
  {
   "cell_type": "code",
   "execution_count": 50,
   "metadata": {},
   "outputs": [
    {
     "data": {
      "text/plain": [
       "_IncompatibleKeys(missing_keys=['base_model.model.bert.embeddings.word_embeddings.weight', 'base_model.model.bert.embeddings.position_embeddings.weight', 'base_model.model.bert.embeddings.token_type_embeddings.weight', 'base_model.model.bert.embeddings.LayerNorm.weight', 'base_model.model.bert.embeddings.LayerNorm.bias', 'base_model.model.bert.encoder.layer.0.attention.self.query.base_layer.weight', 'base_model.model.bert.encoder.layer.0.attention.self.query.base_layer.bias', 'base_model.model.bert.encoder.layer.0.attention.self.key.base_layer.weight', 'base_model.model.bert.encoder.layer.0.attention.self.key.base_layer.bias', 'base_model.model.bert.encoder.layer.0.attention.self.value.base_layer.weight', 'base_model.model.bert.encoder.layer.0.attention.self.value.base_layer.bias', 'base_model.model.bert.encoder.layer.0.attention.output.dense.weight', 'base_model.model.bert.encoder.layer.0.attention.output.dense.bias', 'base_model.model.bert.encoder.layer.0.attention.output.LayerNorm.weight', 'base_model.model.bert.encoder.layer.0.attention.output.LayerNorm.bias', 'base_model.model.bert.encoder.layer.0.intermediate.dense.weight', 'base_model.model.bert.encoder.layer.0.intermediate.dense.bias', 'base_model.model.bert.encoder.layer.0.output.dense.weight', 'base_model.model.bert.encoder.layer.0.output.dense.bias', 'base_model.model.bert.encoder.layer.0.output.LayerNorm.weight', 'base_model.model.bert.encoder.layer.0.output.LayerNorm.bias', 'base_model.model.bert.encoder.layer.1.attention.self.query.base_layer.weight', 'base_model.model.bert.encoder.layer.1.attention.self.query.base_layer.bias', 'base_model.model.bert.encoder.layer.1.attention.self.key.base_layer.weight', 'base_model.model.bert.encoder.layer.1.attention.self.key.base_layer.bias', 'base_model.model.bert.encoder.layer.1.attention.self.value.base_layer.weight', 'base_model.model.bert.encoder.layer.1.attention.self.value.base_layer.bias', 'base_model.model.bert.encoder.layer.1.attention.output.dense.weight', 'base_model.model.bert.encoder.layer.1.attention.output.dense.bias', 'base_model.model.bert.encoder.layer.1.attention.output.LayerNorm.weight', 'base_model.model.bert.encoder.layer.1.attention.output.LayerNorm.bias', 'base_model.model.bert.encoder.layer.1.intermediate.dense.weight', 'base_model.model.bert.encoder.layer.1.intermediate.dense.bias', 'base_model.model.bert.encoder.layer.1.output.dense.weight', 'base_model.model.bert.encoder.layer.1.output.dense.bias', 'base_model.model.bert.encoder.layer.1.output.LayerNorm.weight', 'base_model.model.bert.encoder.layer.1.output.LayerNorm.bias', 'base_model.model.bert.encoder.layer.2.attention.self.query.base_layer.weight', 'base_model.model.bert.encoder.layer.2.attention.self.query.base_layer.bias', 'base_model.model.bert.encoder.layer.2.attention.self.key.base_layer.weight', 'base_model.model.bert.encoder.layer.2.attention.self.key.base_layer.bias', 'base_model.model.bert.encoder.layer.2.attention.self.value.base_layer.weight', 'base_model.model.bert.encoder.layer.2.attention.self.value.base_layer.bias', 'base_model.model.bert.encoder.layer.2.attention.output.dense.weight', 'base_model.model.bert.encoder.layer.2.attention.output.dense.bias', 'base_model.model.bert.encoder.layer.2.attention.output.LayerNorm.weight', 'base_model.model.bert.encoder.layer.2.attention.output.LayerNorm.bias', 'base_model.model.bert.encoder.layer.2.intermediate.dense.weight', 'base_model.model.bert.encoder.layer.2.intermediate.dense.bias', 'base_model.model.bert.encoder.layer.2.output.dense.weight', 'base_model.model.bert.encoder.layer.2.output.dense.bias', 'base_model.model.bert.encoder.layer.2.output.LayerNorm.weight', 'base_model.model.bert.encoder.layer.2.output.LayerNorm.bias', 'base_model.model.bert.encoder.layer.3.attention.self.query.base_layer.weight', 'base_model.model.bert.encoder.layer.3.attention.self.query.base_layer.bias', 'base_model.model.bert.encoder.layer.3.attention.self.key.base_layer.weight', 'base_model.model.bert.encoder.layer.3.attention.self.key.base_layer.bias', 'base_model.model.bert.encoder.layer.3.attention.self.value.base_layer.weight', 'base_model.model.bert.encoder.layer.3.attention.self.value.base_layer.bias', 'base_model.model.bert.encoder.layer.3.attention.output.dense.weight', 'base_model.model.bert.encoder.layer.3.attention.output.dense.bias', 'base_model.model.bert.encoder.layer.3.attention.output.LayerNorm.weight', 'base_model.model.bert.encoder.layer.3.attention.output.LayerNorm.bias', 'base_model.model.bert.encoder.layer.3.intermediate.dense.weight', 'base_model.model.bert.encoder.layer.3.intermediate.dense.bias', 'base_model.model.bert.encoder.layer.3.output.dense.weight', 'base_model.model.bert.encoder.layer.3.output.dense.bias', 'base_model.model.bert.encoder.layer.3.output.LayerNorm.weight', 'base_model.model.bert.encoder.layer.3.output.LayerNorm.bias', 'base_model.model.bert.encoder.layer.4.attention.self.query.base_layer.weight', 'base_model.model.bert.encoder.layer.4.attention.self.query.base_layer.bias', 'base_model.model.bert.encoder.layer.4.attention.self.key.base_layer.weight', 'base_model.model.bert.encoder.layer.4.attention.self.key.base_layer.bias', 'base_model.model.bert.encoder.layer.4.attention.self.value.base_layer.weight', 'base_model.model.bert.encoder.layer.4.attention.self.value.base_layer.bias', 'base_model.model.bert.encoder.layer.4.attention.output.dense.weight', 'base_model.model.bert.encoder.layer.4.attention.output.dense.bias', 'base_model.model.bert.encoder.layer.4.attention.output.LayerNorm.weight', 'base_model.model.bert.encoder.layer.4.attention.output.LayerNorm.bias', 'base_model.model.bert.encoder.layer.4.intermediate.dense.weight', 'base_model.model.bert.encoder.layer.4.intermediate.dense.bias', 'base_model.model.bert.encoder.layer.4.output.dense.weight', 'base_model.model.bert.encoder.layer.4.output.dense.bias', 'base_model.model.bert.encoder.layer.4.output.LayerNorm.weight', 'base_model.model.bert.encoder.layer.4.output.LayerNorm.bias', 'base_model.model.bert.encoder.layer.5.attention.self.query.base_layer.weight', 'base_model.model.bert.encoder.layer.5.attention.self.query.base_layer.bias', 'base_model.model.bert.encoder.layer.5.attention.self.key.base_layer.weight', 'base_model.model.bert.encoder.layer.5.attention.self.key.base_layer.bias', 'base_model.model.bert.encoder.layer.5.attention.self.value.base_layer.weight', 'base_model.model.bert.encoder.layer.5.attention.self.value.base_layer.bias', 'base_model.model.bert.encoder.layer.5.attention.output.dense.weight', 'base_model.model.bert.encoder.layer.5.attention.output.dense.bias', 'base_model.model.bert.encoder.layer.5.attention.output.LayerNorm.weight', 'base_model.model.bert.encoder.layer.5.attention.output.LayerNorm.bias', 'base_model.model.bert.encoder.layer.5.intermediate.dense.weight', 'base_model.model.bert.encoder.layer.5.intermediate.dense.bias', 'base_model.model.bert.encoder.layer.5.output.dense.weight', 'base_model.model.bert.encoder.layer.5.output.dense.bias', 'base_model.model.bert.encoder.layer.5.output.LayerNorm.weight', 'base_model.model.bert.encoder.layer.5.output.LayerNorm.bias', 'base_model.model.bert.encoder.layer.6.attention.self.query.base_layer.weight', 'base_model.model.bert.encoder.layer.6.attention.self.query.base_layer.bias', 'base_model.model.bert.encoder.layer.6.attention.self.key.base_layer.weight', 'base_model.model.bert.encoder.layer.6.attention.self.key.base_layer.bias', 'base_model.model.bert.encoder.layer.6.attention.self.value.base_layer.weight', 'base_model.model.bert.encoder.layer.6.attention.self.value.base_layer.bias', 'base_model.model.bert.encoder.layer.6.attention.output.dense.weight', 'base_model.model.bert.encoder.layer.6.attention.output.dense.bias', 'base_model.model.bert.encoder.layer.6.attention.output.LayerNorm.weight', 'base_model.model.bert.encoder.layer.6.attention.output.LayerNorm.bias', 'base_model.model.bert.encoder.layer.6.intermediate.dense.weight', 'base_model.model.bert.encoder.layer.6.intermediate.dense.bias', 'base_model.model.bert.encoder.layer.6.output.dense.weight', 'base_model.model.bert.encoder.layer.6.output.dense.bias', 'base_model.model.bert.encoder.layer.6.output.LayerNorm.weight', 'base_model.model.bert.encoder.layer.6.output.LayerNorm.bias', 'base_model.model.bert.encoder.layer.7.attention.self.query.base_layer.weight', 'base_model.model.bert.encoder.layer.7.attention.self.query.base_layer.bias', 'base_model.model.bert.encoder.layer.7.attention.self.key.base_layer.weight', 'base_model.model.bert.encoder.layer.7.attention.self.key.base_layer.bias', 'base_model.model.bert.encoder.layer.7.attention.self.value.base_layer.weight', 'base_model.model.bert.encoder.layer.7.attention.self.value.base_layer.bias', 'base_model.model.bert.encoder.layer.7.attention.output.dense.weight', 'base_model.model.bert.encoder.layer.7.attention.output.dense.bias', 'base_model.model.bert.encoder.layer.7.attention.output.LayerNorm.weight', 'base_model.model.bert.encoder.layer.7.attention.output.LayerNorm.bias', 'base_model.model.bert.encoder.layer.7.intermediate.dense.weight', 'base_model.model.bert.encoder.layer.7.intermediate.dense.bias', 'base_model.model.bert.encoder.layer.7.output.dense.weight', 'base_model.model.bert.encoder.layer.7.output.dense.bias', 'base_model.model.bert.encoder.layer.7.output.LayerNorm.weight', 'base_model.model.bert.encoder.layer.7.output.LayerNorm.bias', 'base_model.model.bert.encoder.layer.8.attention.self.query.base_layer.weight', 'base_model.model.bert.encoder.layer.8.attention.self.query.base_layer.bias', 'base_model.model.bert.encoder.layer.8.attention.self.key.base_layer.weight', 'base_model.model.bert.encoder.layer.8.attention.self.key.base_layer.bias', 'base_model.model.bert.encoder.layer.8.attention.self.value.base_layer.weight', 'base_model.model.bert.encoder.layer.8.attention.self.value.base_layer.bias', 'base_model.model.bert.encoder.layer.8.attention.output.dense.weight', 'base_model.model.bert.encoder.layer.8.attention.output.dense.bias', 'base_model.model.bert.encoder.layer.8.attention.output.LayerNorm.weight', 'base_model.model.bert.encoder.layer.8.attention.output.LayerNorm.bias', 'base_model.model.bert.encoder.layer.8.intermediate.dense.weight', 'base_model.model.bert.encoder.layer.8.intermediate.dense.bias', 'base_model.model.bert.encoder.layer.8.output.dense.weight', 'base_model.model.bert.encoder.layer.8.output.dense.bias', 'base_model.model.bert.encoder.layer.8.output.LayerNorm.weight', 'base_model.model.bert.encoder.layer.8.output.LayerNorm.bias', 'base_model.model.bert.encoder.layer.9.attention.self.query.base_layer.weight', 'base_model.model.bert.encoder.layer.9.attention.self.query.base_layer.bias', 'base_model.model.bert.encoder.layer.9.attention.self.key.base_layer.weight', 'base_model.model.bert.encoder.layer.9.attention.self.key.base_layer.bias', 'base_model.model.bert.encoder.layer.9.attention.self.value.base_layer.weight', 'base_model.model.bert.encoder.layer.9.attention.self.value.base_layer.bias', 'base_model.model.bert.encoder.layer.9.attention.output.dense.weight', 'base_model.model.bert.encoder.layer.9.attention.output.dense.bias', 'base_model.model.bert.encoder.layer.9.attention.output.LayerNorm.weight', 'base_model.model.bert.encoder.layer.9.attention.output.LayerNorm.bias', 'base_model.model.bert.encoder.layer.9.intermediate.dense.weight', 'base_model.model.bert.encoder.layer.9.intermediate.dense.bias', 'base_model.model.bert.encoder.layer.9.output.dense.weight', 'base_model.model.bert.encoder.layer.9.output.dense.bias', 'base_model.model.bert.encoder.layer.9.output.LayerNorm.weight', 'base_model.model.bert.encoder.layer.9.output.LayerNorm.bias', 'base_model.model.bert.encoder.layer.10.attention.self.query.base_layer.weight', 'base_model.model.bert.encoder.layer.10.attention.self.query.base_layer.bias', 'base_model.model.bert.encoder.layer.10.attention.self.key.base_layer.weight', 'base_model.model.bert.encoder.layer.10.attention.self.key.base_layer.bias', 'base_model.model.bert.encoder.layer.10.attention.self.value.base_layer.weight', 'base_model.model.bert.encoder.layer.10.attention.self.value.base_layer.bias', 'base_model.model.bert.encoder.layer.10.attention.output.dense.weight', 'base_model.model.bert.encoder.layer.10.attention.output.dense.bias', 'base_model.model.bert.encoder.layer.10.attention.output.LayerNorm.weight', 'base_model.model.bert.encoder.layer.10.attention.output.LayerNorm.bias', 'base_model.model.bert.encoder.layer.10.intermediate.dense.weight', 'base_model.model.bert.encoder.layer.10.intermediate.dense.bias', 'base_model.model.bert.encoder.layer.10.output.dense.weight', 'base_model.model.bert.encoder.layer.10.output.dense.bias', 'base_model.model.bert.encoder.layer.10.output.LayerNorm.weight', 'base_model.model.bert.encoder.layer.10.output.LayerNorm.bias', 'base_model.model.bert.encoder.layer.11.attention.self.query.base_layer.weight', 'base_model.model.bert.encoder.layer.11.attention.self.query.base_layer.bias', 'base_model.model.bert.encoder.layer.11.attention.self.key.base_layer.weight', 'base_model.model.bert.encoder.layer.11.attention.self.key.base_layer.bias', 'base_model.model.bert.encoder.layer.11.attention.self.value.base_layer.weight', 'base_model.model.bert.encoder.layer.11.attention.self.value.base_layer.bias', 'base_model.model.bert.encoder.layer.11.attention.output.dense.weight', 'base_model.model.bert.encoder.layer.11.attention.output.dense.bias', 'base_model.model.bert.encoder.layer.11.attention.output.LayerNorm.weight', 'base_model.model.bert.encoder.layer.11.attention.output.LayerNorm.bias', 'base_model.model.bert.encoder.layer.11.intermediate.dense.weight', 'base_model.model.bert.encoder.layer.11.intermediate.dense.bias', 'base_model.model.bert.encoder.layer.11.output.dense.weight', 'base_model.model.bert.encoder.layer.11.output.dense.bias', 'base_model.model.bert.encoder.layer.11.output.LayerNorm.weight', 'base_model.model.bert.encoder.layer.11.output.LayerNorm.bias', 'base_model.model.bert.pooler.dense.weight', 'base_model.model.bert.pooler.dense.bias', 'base_model.model.classifier.original_module.weight', 'base_model.model.classifier.original_module.bias', 'base_model.model.classifier.modules_to_save.default.weight', 'base_model.model.classifier.modules_to_save.default.bias'], unexpected_keys=[])"
      ]
     },
     "execution_count": 50,
     "metadata": {},
     "output_type": "execute_result"
    }
   ],
   "source": [
    "lora_bert_3.load_state_dict(torch.load(\"testing.pt\"), strict=False)"
   ]
  }
 ],
 "metadata": {
  "kernelspec": {
   "display_name": ".venv",
   "language": "python",
   "name": "python3"
  },
  "language_info": {
   "codemirror_mode": {
    "name": "ipython",
    "version": 3
   },
   "file_extension": ".py",
   "mimetype": "text/x-python",
   "name": "python",
   "nbconvert_exporter": "python",
   "pygments_lexer": "ipython3",
   "version": "3.11.4"
  }
 },
 "nbformat": 4,
 "nbformat_minor": 2
}
