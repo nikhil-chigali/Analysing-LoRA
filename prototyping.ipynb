{
 "cells": [
  {
   "cell_type": "markdown",
   "metadata": {},
   "source": [
    "# Text Classification with BERT"
   ]
  },
  {
   "cell_type": "code",
   "execution_count": 19,
   "metadata": {},
   "outputs": [],
   "source": [
    "import torch\n",
    "import pytorch_lightning as pl\n",
    "from transformers import AutoModelForSequenceClassification\n",
    "from peft import LoraConfig, get_peft_model\n",
    "from ml_collections import ConfigDict\n",
    "\n",
    "\n",
    "from src.models import PeftModelForSequenceClassification\n",
    "from src.data import SequenceClassificationDataModule\n",
    "from src.config import get_config"
   ]
  },
  {
   "cell_type": "code",
   "execution_count": null,
   "metadata": {},
   "outputs": [],
   "source": [
    "config = get_config(\"testing\", 1)\n",
    "model_path = \"experiments/lora-bert-sst2_kqv/checkpoints/epoch=0-step=8416.ckpt\"\n",
    "\n",
    "model = PeftModelForSequenceClassification.save_best_model_state_dict(trainer, config)"
   ]
  },
  {
   "cell_type": "code",
   "execution_count": null,
   "metadata": {},
   "outputs": [],
   "source": [
    "# Model and Data Configurations\n",
    "MODEL_NAME = \"bert-base-uncased\"\n",
    "DATASET_NAME = (\"glue\", \"sst2\")\n",
    "NUM_WORKERS = 1\n",
    "BATCH_SIZE = 4\n",
    "INIT_PATH = \"cache/models/lora_bert_cls_init/model_state_0.pt\"\n",
    "\n",
    "# Lora Configuration\n",
    "config_dict = {\n",
    "        \"r\": 3,\n",
    "        \"lora_alpha\": 8,\n",
    "        \"target_modules\": [\"key\", \"query\", \"value\"],\n",
    "        \"modules_to_save\": [\"classifier\"],\n",
    "    }\n"
   ]
  },
  {
   "cell_type": "code",
   "execution_count": null,
   "metadata": {},
   "outputs": [],
   "source": [
    "data_module = SequenceClassificationDataModule(\n",
    "    model_name=MODEL_NAME,\n",
    "    dataset_name=DATASET_NAME,\n",
    "    num_workers=NUM_WORKERS,\n",
    "    batch_size=BATCH_SIZE,\n",
    ")\n",
    "\n",
    "data_module.setup()\n",
    "trainloader = data_module.train_dataloader()\n",
    "valloader = data_module.val_dataloader()\n",
    "testloader = data_module.test_dataloader()"
   ]
  },
  {
   "cell_type": "code",
   "execution_count": 4,
   "metadata": {},
   "outputs": [
    {
     "name": "stderr",
     "output_type": "stream",
     "text": [
      "GPU available: False, used: False\n",
      "TPU available: False, using: 0 TPU cores\n",
      "HPU available: False, using: 0 HPUs\n"
     ]
    }
   ],
   "source": [
    "callbacks = [\n",
    "    pl.callbacks.ModelCheckpoint(\n",
    "        dirpath=f\"experiments/lora_bert_sst2_sanity/checkpoints\",\n",
    "        save_top_k=1,\n",
    "        monitor=\"val/acc\",\n",
    "        mode=\"max\",\n",
    "    ),\n",
    "    # EarlyStopping(\n",
    "    #     monitor=\"val/loss\",\n",
    "    #     patience=config.training.early_stopping_patience,\n",
    "    #     mode=\"min\",\n",
    "    # ),\n",
    "]\n",
    "\n",
    "# loggers = [\n",
    "#     CSVLogger(f\"experiments/{exp_name}/logs/\"),\n",
    "#     WandbLogger(\n",
    "#         project=\"LoRA-Ensembling\",\n",
    "#         name=exp_name,\n",
    "#         log_model=True,\n",
    "#         save_dir=\"experiments\",\n",
    "#     ),\n",
    "# ]\n",
    "\n",
    "# Trainer\n",
    "trainer = pl.Trainer(\n",
    "    max_epochs=1,\n",
    "    # accelerator=\"gpu\",\n",
    "    precision=\"32\",\n",
    "    val_check_interval=3,\n",
    "    callbacks=callbacks,\n",
    "    # logger=loggers,\n",
    ")"
   ]
  },
  {
   "cell_type": "code",
   "execution_count": null,
   "metadata": {},
   "outputs": [
    {
     "name": "stderr",
     "output_type": "stream",
     "text": [
      "LOCAL_RANK: 0 - CUDA_VISIBLE_DEVICES: [0]\n",
      "\u001b[32m2024-06-16 09:31:27.963\u001b[0m | \u001b[34m\u001b[1mDEBUG   \u001b[0m | \u001b[36msrc.models\u001b[0m:\u001b[36mconfigure_optimizers\u001b[0m:\u001b[36m108\u001b[0m - \u001b[34m\u001b[1mConfiguring optimizer and lr scheduler...\u001b[0m\n",
      "\n",
      "  | Name       | Type                          | Params\n",
      "-------------------------------------------------------------\n",
      "0 | accuracy   | MulticlassAccuracy            | 0     \n",
      "1 | base_model | BertForSequenceClassification | 109 M \n",
      "2 | model      | PeftModel                     | 109 M \n",
      "-------------------------------------------------------------\n",
      "56.8 K    Trainable params\n",
      "109 M     Non-trainable params\n",
      "109 M     Total params\n",
      "438.162   Total estimated model params size (MB)\n"
     ]
    },
    {
     "name": "stdout",
     "output_type": "stream",
     "text": [
      "Epoch 0:   4%|▍         | 672/16837 [27:47<11:08:24,  0.40it/s, v_num=2, train/loss=0.0424, train/acc=1.000, val/loss=0.312, val/acc=0.859]"
     ]
    }
   ],
   "source": [
    "model.config = config\n",
    "trainer.fit(model, trainloader, valloader)\n"
   ]
  },
  {
   "cell_type": "code",
   "execution_count": null,
   "metadata": {},
   "outputs": [
    {
     "name": "stderr",
     "output_type": "stream",
     "text": [
      "Some weights of BertForSequenceClassification were not initialized from the model checkpoint at bert-base-uncased and are newly initialized: ['classifier.bias', 'classifier.weight']\n",
      "You should probably TRAIN this model on a down-stream task to be able to use it for predictions and inference.\n"
     ]
    },
    {
     "data": {
      "text/plain": [
       "<All keys matched successfully>"
      ]
     },
     "execution_count": 6,
     "metadata": {},
     "output_type": "execute_result"
    }
   ],
   "source": [
    "# PEFT Config\n",
    "lora_config = LoraConfig(**config_dict)\n",
    "\n",
    "# Load BERT and PEFT Model\n",
    "bert = AutoModelForSequenceClassification.from_pretrained(MODEL_NAME, cache_dir=\"cache/models\")\n",
    "lora_bert = get_peft_model(bert, lora_config)\n",
    "\n",
    "# Save the initial model state\n",
    "model_state = lora_bert.state_dict()\n",
    "torch.save(model_state, INIT_PATH)\n",
    "\n",
    "# Load the initial model state\n",
    "model_state = torch.load(INIT_PATH)\n",
    "lora_bert.load_state_dict(model_state)"
   ]
  },
  {
   "cell_type": "code",
   "execution_count": 1,
   "metadata": {},
   "outputs": [
    {
     "name": "stderr",
     "output_type": "stream",
     "text": [
      "Downloading data: 100%|██████████| 52.2M/52.2M [00:29<00:00, 1.79MB/s]\n",
      "Downloading data: 100%|██████████| 1.21M/1.21M [00:02<00:00, 480kB/s]\n",
      "Downloading data: 100%|██████████| 1.25M/1.25M [00:02<00:00, 491kB/s]\n",
      "Downloading data: 100%|██████████| 1.22M/1.22M [00:02<00:00, 501kB/s]\n",
      "Downloading data: 100%|██████████| 1.26M/1.26M [00:02<00:00, 514kB/s]\n",
      "Generating train split: 100%|██████████| 392702/392702 [00:00<00:00, 1829589.32 examples/s]\n",
      "Generating validation_matched split: 100%|██████████| 9815/9815 [00:00<00:00, 1088673.34 examples/s]\n",
      "Generating validation_mismatched split: 100%|██████████| 9832/9832 [00:00<00:00, 1638524.99 examples/s]\n",
      "Generating test_matched split: 100%|██████████| 9796/9796 [00:00<00:00, 1348233.04 examples/s]\n",
      "Generating test_mismatched split: 100%|██████████| 9847/9847 [00:00<00:00, 1545302.93 examples/s]\n"
     ]
    },
    {
     "data": {
      "text/plain": [
       "DatasetDict({\n",
       "    train: Dataset({\n",
       "        features: ['premise', 'hypothesis', 'label', 'idx'],\n",
       "        num_rows: 392702\n",
       "    })\n",
       "    validation_matched: Dataset({\n",
       "        features: ['premise', 'hypothesis', 'label', 'idx'],\n",
       "        num_rows: 9815\n",
       "    })\n",
       "    validation_mismatched: Dataset({\n",
       "        features: ['premise', 'hypothesis', 'label', 'idx'],\n",
       "        num_rows: 9832\n",
       "    })\n",
       "    test_matched: Dataset({\n",
       "        features: ['premise', 'hypothesis', 'label', 'idx'],\n",
       "        num_rows: 9796\n",
       "    })\n",
       "    test_mismatched: Dataset({\n",
       "        features: ['premise', 'hypothesis', 'label', 'idx'],\n",
       "        num_rows: 9847\n",
       "    })\n",
       "})"
      ]
     },
     "execution_count": 1,
     "metadata": {},
     "output_type": "execute_result"
    }
   ],
   "source": [
    "from datasets import load_dataset\n",
    "\n",
    "mnli = load_dataset(\"glue\", \"mnli\", cache_dir=\"cache/data\")\n",
    "mnli"
   ]
  },
  {
   "cell_type": "code",
   "execution_count": 5,
   "metadata": {},
   "outputs": [],
   "source": [
    "from src.mnli import MNLIDataModule\n",
    "\n",
    "mnli = MNLIDataModule(\"bert-base-uncased\", 4, 1)"
   ]
  },
  {
   "cell_type": "code",
   "execution_count": 6,
   "metadata": {},
   "outputs": [
    {
     "name": "stderr",
     "output_type": "stream",
     "text": [
      "Map: 100%|██████████| 392702/392702 [00:56<00:00, 6892.57 examples/s]\n",
      "Map: 100%|██████████| 9815/9815 [00:01<00:00, 6694.98 examples/s] \n",
      "Map: 100%|██████████| 9832/9832 [00:01<00:00, 7535.50 examples/s]\n",
      "Map: 100%|██████████| 9796/9796 [00:01<00:00, 7229.60 examples/s]\n",
      "Map: 100%|██████████| 9847/9847 [00:02<00:00, 4010.88 examples/s]\n"
     ]
    }
   ],
   "source": [
    "mnli.prepare_data()\n",
    "mnli.setup()"
   ]
  },
  {
   "cell_type": "code",
   "execution_count": 8,
   "metadata": {},
   "outputs": [
    {
     "data": {
      "text/plain": [
       "DatasetDict({\n",
       "    train: Dataset({\n",
       "        features: ['premise', 'hypothesis', 'label', 'idx', 'input_ids', 'token_type_ids', 'attention_mask'],\n",
       "        num_rows: 392702\n",
       "    })\n",
       "    validation_matched: Dataset({\n",
       "        features: ['premise', 'hypothesis', 'label', 'idx', 'input_ids', 'token_type_ids', 'attention_mask'],\n",
       "        num_rows: 9815\n",
       "    })\n",
       "    validation_mismatched: Dataset({\n",
       "        features: ['premise', 'hypothesis', 'label', 'idx', 'input_ids', 'token_type_ids', 'attention_mask'],\n",
       "        num_rows: 9832\n",
       "    })\n",
       "    test_matched: Dataset({\n",
       "        features: ['premise', 'hypothesis', 'label', 'idx', 'input_ids', 'token_type_ids', 'attention_mask'],\n",
       "        num_rows: 9796\n",
       "    })\n",
       "    test_mismatched: Dataset({\n",
       "        features: ['premise', 'hypothesis', 'label', 'idx', 'input_ids', 'token_type_ids', 'attention_mask'],\n",
       "        num_rows: 9847\n",
       "    })\n",
       "})"
      ]
     },
     "execution_count": 8,
     "metadata": {},
     "output_type": "execute_result"
    }
   ],
   "source": [
    "mnli.dataset"
   ]
  },
  {
   "cell_type": "code",
   "execution_count": 15,
   "metadata": {},
   "outputs": [
    {
     "data": {
      "text/plain": [
       "<torch.utils.data.dataloader.DataLoader at 0x22ced3dfe10>"
      ]
     },
     "execution_count": 15,
     "metadata": {},
     "output_type": "execute_result"
    }
   ],
   "source": [
    "trainloader = mnli.train_dataloader()\n",
    "trainloader"
   ]
  },
  {
   "cell_type": "code",
   "execution_count": 20,
   "metadata": {},
   "outputs": [
    {
     "name": "stderr",
     "output_type": "stream",
     "text": [
      "\u001b[32m2024-06-17 11:25:51.174\u001b[0m | \u001b[34m\u001b[1mDEBUG   \u001b[0m | \u001b[36msrc.models\u001b[0m:\u001b[36m__init__\u001b[0m:\u001b[36m22\u001b[0m - \u001b[34m\u001b[1mLoading model bert-base-uncased...\u001b[0m\n",
      "Some weights of BertForSequenceClassification were not initialized from the model checkpoint at bert-base-uncased and are newly initialized: ['classifier.bias', 'classifier.weight']\n",
      "You should probably TRAIN this model on a down-stream task to be able to use it for predictions and inference.\n",
      "\u001b[32m2024-06-17 11:25:53.669\u001b[0m | \u001b[34m\u001b[1mDEBUG   \u001b[0m | \u001b[36msrc.models\u001b[0m:\u001b[36m__init__\u001b[0m:\u001b[36m34\u001b[0m - \u001b[34m\u001b[1mCreating LoRA model...\u001b[0m\n",
      "\u001b[32m2024-06-17 11:25:53.707\u001b[0m | \u001b[34m\u001b[1mDEBUG   \u001b[0m | \u001b[36msrc.models\u001b[0m:\u001b[36m__init__\u001b[0m:\u001b[36m37\u001b[0m - \u001b[34m\u001b[1mSeeding model parameters...\u001b[0m\n",
      "\u001b[32m2024-06-17 11:25:53.709\u001b[0m | \u001b[34m\u001b[1mDEBUG   \u001b[0m | \u001b[36msrc.models\u001b[0m:\u001b[36mseed_model_params\u001b[0m:\u001b[36m45\u001b[0m - \u001b[34m\u001b[1mInitial weights already exist. Loading...\u001b[0m\n"
     ]
    },
    {
     "data": {
      "text/plain": [
       "PeftModelForSequenceClassification(\n",
       "  (accuracy): MulticlassAccuracy()\n",
       "  (base_model): BertForSequenceClassification(\n",
       "    (bert): BertModel(\n",
       "      (embeddings): BertEmbeddings(\n",
       "        (word_embeddings): Embedding(30522, 768, padding_idx=0)\n",
       "        (position_embeddings): Embedding(512, 768)\n",
       "        (token_type_embeddings): Embedding(2, 768)\n",
       "        (LayerNorm): LayerNorm((768,), eps=1e-12, elementwise_affine=True)\n",
       "        (dropout): Dropout(p=0.1, inplace=False)\n",
       "      )\n",
       "      (encoder): BertEncoder(\n",
       "        (layer): ModuleList(\n",
       "          (0-11): 12 x BertLayer(\n",
       "            (attention): BertAttention(\n",
       "              (self): BertSelfAttention(\n",
       "                (query): lora.Linear(\n",
       "                  (base_layer): Linear(in_features=768, out_features=768, bias=True)\n",
       "                  (lora_dropout): ModuleDict(\n",
       "                    (default): Identity()\n",
       "                  )\n",
       "                  (lora_A): ModuleDict(\n",
       "                    (default): Linear(in_features=768, out_features=1, bias=False)\n",
       "                  )\n",
       "                  (lora_B): ModuleDict(\n",
       "                    (default): Linear(in_features=1, out_features=768, bias=False)\n",
       "                  )\n",
       "                  (lora_embedding_A): ParameterDict()\n",
       "                  (lora_embedding_B): ParameterDict()\n",
       "                )\n",
       "                (key): lora.Linear(\n",
       "                  (base_layer): Linear(in_features=768, out_features=768, bias=True)\n",
       "                  (lora_dropout): ModuleDict(\n",
       "                    (default): Identity()\n",
       "                  )\n",
       "                  (lora_A): ModuleDict(\n",
       "                    (default): Linear(in_features=768, out_features=1, bias=False)\n",
       "                  )\n",
       "                  (lora_B): ModuleDict(\n",
       "                    (default): Linear(in_features=1, out_features=768, bias=False)\n",
       "                  )\n",
       "                  (lora_embedding_A): ParameterDict()\n",
       "                  (lora_embedding_B): ParameterDict()\n",
       "                )\n",
       "                (value): lora.Linear(\n",
       "                  (base_layer): Linear(in_features=768, out_features=768, bias=True)\n",
       "                  (lora_dropout): ModuleDict(\n",
       "                    (default): Identity()\n",
       "                  )\n",
       "                  (lora_A): ModuleDict(\n",
       "                    (default): Linear(in_features=768, out_features=1, bias=False)\n",
       "                  )\n",
       "                  (lora_B): ModuleDict(\n",
       "                    (default): Linear(in_features=1, out_features=768, bias=False)\n",
       "                  )\n",
       "                  (lora_embedding_A): ParameterDict()\n",
       "                  (lora_embedding_B): ParameterDict()\n",
       "                )\n",
       "                (dropout): Dropout(p=0.1, inplace=False)\n",
       "              )\n",
       "              (output): BertSelfOutput(\n",
       "                (dense): Linear(in_features=768, out_features=768, bias=True)\n",
       "                (LayerNorm): LayerNorm((768,), eps=1e-12, elementwise_affine=True)\n",
       "                (dropout): Dropout(p=0.1, inplace=False)\n",
       "              )\n",
       "            )\n",
       "            (intermediate): BertIntermediate(\n",
       "              (dense): Linear(in_features=768, out_features=3072, bias=True)\n",
       "              (intermediate_act_fn): GELUActivation()\n",
       "            )\n",
       "            (output): BertOutput(\n",
       "              (dense): Linear(in_features=3072, out_features=768, bias=True)\n",
       "              (LayerNorm): LayerNorm((768,), eps=1e-12, elementwise_affine=True)\n",
       "              (dropout): Dropout(p=0.1, inplace=False)\n",
       "            )\n",
       "          )\n",
       "        )\n",
       "      )\n",
       "      (pooler): BertPooler(\n",
       "        (dense): Linear(in_features=768, out_features=768, bias=True)\n",
       "        (activation): Tanh()\n",
       "      )\n",
       "    )\n",
       "    (dropout): Dropout(p=0.1, inplace=False)\n",
       "    (classifier): ModulesToSaveWrapper(\n",
       "      (original_module): Linear(in_features=768, out_features=3, bias=True)\n",
       "      (modules_to_save): ModuleDict(\n",
       "        (default): Linear(in_features=768, out_features=3, bias=True)\n",
       "      )\n",
       "    )\n",
       "  )\n",
       "  (model): PeftModel(\n",
       "    (base_model): LoraModel(\n",
       "      (model): BertForSequenceClassification(\n",
       "        (bert): BertModel(\n",
       "          (embeddings): BertEmbeddings(\n",
       "            (word_embeddings): Embedding(30522, 768, padding_idx=0)\n",
       "            (position_embeddings): Embedding(512, 768)\n",
       "            (token_type_embeddings): Embedding(2, 768)\n",
       "            (LayerNorm): LayerNorm((768,), eps=1e-12, elementwise_affine=True)\n",
       "            (dropout): Dropout(p=0.1, inplace=False)\n",
       "          )\n",
       "          (encoder): BertEncoder(\n",
       "            (layer): ModuleList(\n",
       "              (0-11): 12 x BertLayer(\n",
       "                (attention): BertAttention(\n",
       "                  (self): BertSelfAttention(\n",
       "                    (query): lora.Linear(\n",
       "                      (base_layer): Linear(in_features=768, out_features=768, bias=True)\n",
       "                      (lora_dropout): ModuleDict(\n",
       "                        (default): Identity()\n",
       "                      )\n",
       "                      (lora_A): ModuleDict(\n",
       "                        (default): Linear(in_features=768, out_features=1, bias=False)\n",
       "                      )\n",
       "                      (lora_B): ModuleDict(\n",
       "                        (default): Linear(in_features=1, out_features=768, bias=False)\n",
       "                      )\n",
       "                      (lora_embedding_A): ParameterDict()\n",
       "                      (lora_embedding_B): ParameterDict()\n",
       "                    )\n",
       "                    (key): lora.Linear(\n",
       "                      (base_layer): Linear(in_features=768, out_features=768, bias=True)\n",
       "                      (lora_dropout): ModuleDict(\n",
       "                        (default): Identity()\n",
       "                      )\n",
       "                      (lora_A): ModuleDict(\n",
       "                        (default): Linear(in_features=768, out_features=1, bias=False)\n",
       "                      )\n",
       "                      (lora_B): ModuleDict(\n",
       "                        (default): Linear(in_features=1, out_features=768, bias=False)\n",
       "                      )\n",
       "                      (lora_embedding_A): ParameterDict()\n",
       "                      (lora_embedding_B): ParameterDict()\n",
       "                    )\n",
       "                    (value): lora.Linear(\n",
       "                      (base_layer): Linear(in_features=768, out_features=768, bias=True)\n",
       "                      (lora_dropout): ModuleDict(\n",
       "                        (default): Identity()\n",
       "                      )\n",
       "                      (lora_A): ModuleDict(\n",
       "                        (default): Linear(in_features=768, out_features=1, bias=False)\n",
       "                      )\n",
       "                      (lora_B): ModuleDict(\n",
       "                        (default): Linear(in_features=1, out_features=768, bias=False)\n",
       "                      )\n",
       "                      (lora_embedding_A): ParameterDict()\n",
       "                      (lora_embedding_B): ParameterDict()\n",
       "                    )\n",
       "                    (dropout): Dropout(p=0.1, inplace=False)\n",
       "                  )\n",
       "                  (output): BertSelfOutput(\n",
       "                    (dense): Linear(in_features=768, out_features=768, bias=True)\n",
       "                    (LayerNorm): LayerNorm((768,), eps=1e-12, elementwise_affine=True)\n",
       "                    (dropout): Dropout(p=0.1, inplace=False)\n",
       "                  )\n",
       "                )\n",
       "                (intermediate): BertIntermediate(\n",
       "                  (dense): Linear(in_features=768, out_features=3072, bias=True)\n",
       "                  (intermediate_act_fn): GELUActivation()\n",
       "                )\n",
       "                (output): BertOutput(\n",
       "                  (dense): Linear(in_features=3072, out_features=768, bias=True)\n",
       "                  (LayerNorm): LayerNorm((768,), eps=1e-12, elementwise_affine=True)\n",
       "                  (dropout): Dropout(p=0.1, inplace=False)\n",
       "                )\n",
       "              )\n",
       "            )\n",
       "          )\n",
       "          (pooler): BertPooler(\n",
       "            (dense): Linear(in_features=768, out_features=768, bias=True)\n",
       "            (activation): Tanh()\n",
       "          )\n",
       "        )\n",
       "        (dropout): Dropout(p=0.1, inplace=False)\n",
       "        (classifier): ModulesToSaveWrapper(\n",
       "          (original_module): Linear(in_features=768, out_features=3, bias=True)\n",
       "          (modules_to_save): ModuleDict(\n",
       "            (default): Linear(in_features=768, out_features=3, bias=True)\n",
       "          )\n",
       "        )\n",
       "      )\n",
       "    )\n",
       "  )\n",
       ")"
      ]
     },
     "execution_count": 20,
     "metadata": {},
     "output_type": "execute_result"
    }
   ],
   "source": [
    "\n",
    "config = get_config(\"testing\", 2)\n",
    "model = PeftModelForSequenceClassification(config)\n",
    "model"
   ]
  },
  {
   "cell_type": "code",
   "execution_count": 26,
   "metadata": {},
   "outputs": [
    {
     "name": "stdout",
     "output_type": "stream",
     "text": [
      "dict_keys(['input_ids', 'token_type_ids', 'attention_mask', 'labels'])\n",
      "tensor([1, 2, 0, 2])\n"
     ]
    }
   ],
   "source": [
    "for batch in mnli.val_dataloader()[0]:\n",
    "    print(batch.keys())\n",
    "    print(batch[\"labels\"])\n",
    "    break"
   ]
  },
  {
   "cell_type": "code",
   "execution_count": 37,
   "metadata": {},
   "outputs": [
    {
     "name": "stderr",
     "output_type": "stream",
     "text": [
      "Downloading data: 100%|██████████| 1.21M/1.21M [00:03<00:00, 367kB/s]\n",
      "Downloading data: 100%|██████████| 1.22M/1.22M [00:02<00:00, 436kB/s]\n",
      "Generating validation split: 100%|██████████| 9815/9815 [00:00<00:00, 124445.95 examples/s]\n",
      "Generating test split: 100%|██████████| 9796/9796 [00:00<00:00, 652191.34 examples/s]\n"
     ]
    },
    {
     "data": {
      "text/plain": [
       "DatasetDict({\n",
       "    validation: Dataset({\n",
       "        features: ['premise', 'hypothesis', 'label', 'idx'],\n",
       "        num_rows: 9815\n",
       "    })\n",
       "    test: Dataset({\n",
       "        features: ['premise', 'hypothesis', 'label', 'idx'],\n",
       "        num_rows: 9796\n",
       "    })\n",
       "})"
      ]
     },
     "execution_count": 37,
     "metadata": {},
     "output_type": "execute_result"
    }
   ],
   "source": [
    "load_dataset(\"glue\", \"mnli_matched\", cache_dir=\"cache/data\")"
   ]
  }
 ],
 "metadata": {
  "kernelspec": {
   "display_name": ".venv",
   "language": "python",
   "name": "python3"
  },
  "language_info": {
   "codemirror_mode": {
    "name": "ipython",
    "version": 3
   },
   "file_extension": ".py",
   "mimetype": "text/x-python",
   "name": "python",
   "nbconvert_exporter": "python",
   "pygments_lexer": "ipython3",
   "version": "3.11.4"
  }
 },
 "nbformat": 4,
 "nbformat_minor": 2
}
